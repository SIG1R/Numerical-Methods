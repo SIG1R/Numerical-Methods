{
 "cells": [
  {
   "cell_type": "markdown",
   "metadata": {
    "id": "aW8csNvd1Aju"
   },
   "source": [
    "Integrantes:\n",
    "\n",
    "+ Juan Pablo Niño\n",
    "+ Nicole Santana\n",
    "+ Sebastian Gómez"
   ]
  },
  {
   "cell_type": "markdown",
   "metadata": {
    "id": "Y00fX7gnLf5w"
   },
   "source": [
    "## Pasos previos"
   ]
  },
  {
   "cell_type": "markdown",
   "metadata": {
    "id": "3g9XdT-h7a4H"
   },
   "source": [
    "\n",
    "\n",
    "Para tener más orden durante el desarrollo del cuaderno, consideremos las siguientes nomenclaturas para definir variables:\n",
    "\n",
    "En primera instancia tendremos en cuenta las variables de instancias para cada uno de los métodos de busqueda de raices de la siguiente forma.\n",
    "\n",
    "```python\n",
    "bisect    = Bisection()\n",
    "secant    = Secant()\n",
    "new_rap   = Newton_Raphson()\n",
    "fix_point = Fixed_Point()\n",
    "```\n",
    "\n",
    "Más sin embargo como el implementar esta notación para cada punto hace que se sobre escriba la variable (usar bisect en el punto 1 y luego la misma nomenclatura en el punto 2) tendremos en cuenta el número del punto al que hace referencia de la siguiente forma:\n",
    "\n",
    "```python\n",
    "# <Nomenclatura_anterior>_<Punto>\n",
    "# Las siguientes formas son EJEMPLOS\n",
    "bisect_1     = Bisection()\n",
    "secant_2     = Secant()\n",
    "new_rap_3    = Newton_Raphson()\n",
    "fix_point_4  = Fixed_Point()\n",
    "```\n",
    "\n",
    "Por si llega a usarse el método de la bisección (por ejemplo) en más de una ocasión para el mismo punto (1,2,3,4,5), usaremos la siguiente notación.\n",
    "\n",
    "```python\n",
    "# <Nomenclatura_anterior>_<Punto_numeral>\n",
    "# Las siguientes formas son EJEMPLOS\n",
    "bisect_1a  = Bisection()\n",
    "bisect_1b  = Bisection()\n",
    "bisect_1c  = Bisection()\n",
    ".\n",
    ".\n",
    ".\n",
    "```"
   ]
  },
  {
   "cell_type": "code",
   "execution_count": 2,
   "metadata": {
    "id": "BgXNxkzkIivN"
   },
   "outputs": [],
   "source": [
    "import sys # Para poder ubicar la ruta descargada (github)\n",
    "sys.path.append(\"/content/Numerical-Methods\") # Ubicando la ruta\n",
    "\n",
    "# Códigos propios\n",
    "from errors import errors # Errores\n",
    "\n",
    "from methods.root_finding import * # Métodos de busqueda de raices\n",
    "\n",
    "# Visualización\n",
    "import matplotlib.pyplot as plt\n",
    "import seaborn as sns\n",
    "\n",
    "\n",
    "# Librerías estándares\n",
    "import numpy as np # Importando numpy\n",
    "import time\n",
    "\n",
    "sns.set_style('darkgrid')"
   ]
  },
  {
   "cell_type": "markdown",
   "metadata": {
    "id": "2UsjzCHs1CY4"
   },
   "source": [
    "## Punto 1\n",
    "\n",
    "Ecuación de valor. Cuando se quiere hallar un flujo de caja equivalente se utiliza una ecuación de valor y así se construye una condición (ecuación) que permite hallar el flujo equivalente. En algunos caso, hallar la solución a dicha condición no es una tarea sencilla. El objetivo de este primer punto es construir una clase en Python que permita solucionar numéricamente las ecuaciones de valor. Tenga en cuenta que en algunos casos la variable de interés no es necesariamente el flujo de caja. Otras variables de interés puede ser la periodicidad, o una tasa de interés.\n",
    "\n",
    "**Reto: Construir una clase que reciba un argumento, (tasa, flujo o n). Si recibe**\n",
    "\n",
    "* tasa, entonces halle la tasa que cumple la ecuación de valor.\n",
    "* flujo, entonces halle el flujo que cumple la ecuación de valor.\n",
    "* n, entonces halle el valor n que cumple la ecuación de valor.\n",
    "\n",
    "Con ayuda de la clase construida, responder a los siguientes problemas:\n",
    "\n",
    "a) ¿Cuánto se debe depositar hoy en una cuenta de ahorros que paga un interés del 2% mensual, para poder retirar 75.000 dentro de seis meses,  45.000 dentro de ocho meses, la mitad de lo depositado dentro de diez meses y aún se tenga un saldo de  300.000 dentro de 12 meses? (Rta: 579.074.35) <font color=#3e40c2>¡Resuelto!, falta corregir unas cosas del método, me encargo de este</font>\n",
    "\n",
    "\n",
    "b) Usted tiene tres documentos por cobrar así: uno por 200.000 dentro de 4 meses,otro por 300.000 dentro de 6 meses y el último por 600.000 dentro de 8 meses. Pacta con su deudor cambiar los tres pagos por uno de 900.000. Si la operación financiera se realiza con una tasa de interés del 4 % mensual ¿en qué fecha se debe pagar?\n",
    "\n",
    "c) Pablo se comprometió a cancelar una deuda con los siguientes pagos: un pago en el día de hoy por valor de 50.000, un pago dentro de 5 meses por valor de $ 200.000 y un pago dentro de 8 meses por valor de 350.000. Posteriormente convino con el acreedor en cancelarle la deuda con dos pagos iguales en los meses 6 y 12. Calcular el valor de estos pagos, si la operación se realiza con una tasa de interés del 3 % mensual. (Rta: 324.144.53)"
   ]
  },
  {
   "cell_type": "code",
   "execution_count": 2,
   "metadata": {
    "id": "qZp2vAIL0-j0"
   },
   "outputs": [],
   "source": [
    "#@title Clase del punto 1\n",
    "\n",
    "# Tenga en cuenta que solo hay una ecuación, de la cual se puede sacar el flujo\n",
    "# (cuanto dinero se paga o se ahorra en un periodo de tiempo, ej: del mes 2 al mes 6)\n",
    "\n",
    "class Value_Equation:\n",
    "\n",
    "  SPACE = 5\n",
    "  # Formulas de valor presente y futuro\n",
    "  VP = lambda self, amount, month: amount/(1+self.rate)**month\n",
    "  VF = lambda self, amount, month: amount*(1+self.rate)**month\n",
    "\n",
    "\n",
    "  def __init__(self, cash_flow, rate):\n",
    "    '''\n",
    "\n",
    "    '''\n",
    "\n",
    "    self.cash_flow = cash_flow\n",
    "    self.rate = rate / 100\n",
    "\n",
    "  def solver_1a(self):\n",
    "    '''\n",
    "    '''\n",
    "\n",
    "    # Set the initial price\n",
    "    summation = 0\n",
    "    FP_instance = Fixed_Point()\n",
    "\n",
    "    # Itering all pay of cash flow\n",
    "    for amount, month in self.cash_flow:\n",
    "      try: # This is when there are not strings (unkown value)\n",
    "        summation += self.VP(amount, month)\n",
    "\n",
    "      except TypeError:\n",
    "        val = float(amount.split('/')[1])\n",
    "        month_ = month\n",
    "\n",
    "\n",
    "    FP_instance.set_parameters(0.1,10e-4, lambda x: summation + x/(val*(1+self.rate)**month_))\n",
    "    FP_instance.fit()\n",
    "\n",
    "    return FP_instance"
   ]
  },
  {
   "cell_type": "code",
   "execution_count": 3,
   "metadata": {
    "colab": {
     "base_uri": "https://localhost:8080/"
    },
    "id": "NmZ34aMC74k_",
    "outputId": "385bd055-4f88-4f9a-9358-d8430a54545d"
   },
   "outputs": [
    {
     "name": "stdout",
     "output_type": "stream",
     "text": [
      "La raíz es ≈ 579074.099\n"
     ]
    }
   ],
   "source": [
    "#@title Solución 1 A\n",
    "\n",
    "# Flujo de caja ejercicio 1 A\n",
    "cash_1a = [(75000,6), (45000,8), ('x/2', 10), (300000,12)]\n",
    "\n",
    "instance_1a = Value_Equation(cash_1a, 2) # Instanciar de la clase Value_Equation\n",
    "solucion_1a = instance_1a.solver_1a()\n",
    "print(f'La raíz es ≈ {round(solucion_1a.root, 3)}') # Observar la raíz de la ecuación\n",
    "\n",
    "#solucion_1a.summary # Descomentar esta línea sí quiere ver un resumen de las iteraciones"
   ]
  },
  {
   "cell_type": "code",
   "execution_count": 4,
   "metadata": {
    "id": "m7w4uizgdQ0b"
   },
   "outputs": [],
   "source": [
    "#@title Solución 1 B\n",
    "\n",
    "# Flujo de caja ejercicio 1 B\n",
    "cash_1b = [(200000,4), (300000,6), (600000,8)]\n",
    "\n",
    "\n",
    "func = lambda x: (1.04**x)*846468-900000\n",
    "func_de = lambda x: x*(1.04**x-1)*846468\n",
    "f1 = Fixed_Point()\n",
    "f1.set_parameters(1, 10e-4, func)\n",
    "f1.fit()"
   ]
  },
  {
   "cell_type": "code",
   "execution_count": 5,
   "metadata": {
    "colab": {
     "base_uri": "https://localhost:8080/",
     "height": 382
    },
    "id": "qK7tzlPuELFU",
    "outputId": "c2cdada0-4bf6-4139-e786-7d2306ef4cd7"
   },
   "outputs": [
    {
     "ename": "NameError",
     "evalue": "cannot access free variable 'val' where it is not associated with a value in enclosing scope",
     "output_type": "error",
     "traceback": [
      "\u001b[0;31m---------------------------------------------------------------------------\u001b[0m",
      "\u001b[0;31mNameError\u001b[0m                                 Traceback (most recent call last)",
      "Cell \u001b[0;32mIn[5], line 7\u001b[0m\n\u001b[1;32m      4\u001b[0m cash_1c \u001b[38;5;241m=\u001b[39m [(\u001b[38;5;241m50000\u001b[39m,\u001b[38;5;241m0\u001b[39m), (\u001b[38;5;241m200000\u001b[39m,\u001b[38;5;241m5\u001b[39m), (\u001b[38;5;241m350000\u001b[39m,\u001b[38;5;241m8\u001b[39m)]\n\u001b[1;32m      6\u001b[0m instance_1c \u001b[38;5;241m=\u001b[39m Value_Equation(cash_1c, \u001b[38;5;241m2\u001b[39m) \u001b[38;5;66;03m# Instanciar de la clase Value_Equation\u001b[39;00m\n\u001b[0;32m----> 7\u001b[0m solucion_1c \u001b[38;5;241m=\u001b[39m instance_1c\u001b[38;5;241m.\u001b[39msolver_1a()\n\u001b[1;32m      8\u001b[0m \u001b[38;5;28mprint\u001b[39m(\u001b[38;5;124mf\u001b[39m\u001b[38;5;124m'\u001b[39m\u001b[38;5;124mLa raíz es ≈ \u001b[39m\u001b[38;5;132;01m{\u001b[39;00m\u001b[38;5;28mround\u001b[39m(solucion_1c\u001b[38;5;241m.\u001b[39mroot,\u001b[38;5;250m \u001b[39m\u001b[38;5;241m3\u001b[39m)\u001b[38;5;132;01m}\u001b[39;00m\u001b[38;5;124m'\u001b[39m)\n",
      "Cell \u001b[0;32mIn[2], line 41\u001b[0m, in \u001b[0;36mValue_Equation.solver_1a\u001b[0;34m(self)\u001b[0m\n\u001b[1;32m     37\u001b[0m     month_ \u001b[38;5;241m=\u001b[39m month\n\u001b[1;32m     40\u001b[0m FP_instance\u001b[38;5;241m.\u001b[39mset_parameters(\u001b[38;5;241m0.1\u001b[39m,\u001b[38;5;241m10e-4\u001b[39m, \u001b[38;5;28;01mlambda\u001b[39;00m x: summation \u001b[38;5;241m+\u001b[39m x\u001b[38;5;241m/\u001b[39m(val\u001b[38;5;241m*\u001b[39m(\u001b[38;5;241m1\u001b[39m\u001b[38;5;241m+\u001b[39m\u001b[38;5;28mself\u001b[39m\u001b[38;5;241m.\u001b[39mrate)\u001b[38;5;241m*\u001b[39m\u001b[38;5;241m*\u001b[39mmonth_))\n\u001b[0;32m---> 41\u001b[0m FP_instance\u001b[38;5;241m.\u001b[39mfit()\n\u001b[1;32m     43\u001b[0m \u001b[38;5;28;01mreturn\u001b[39;00m FP_instance\n",
      "File \u001b[0;32m/mnt/My_Data/Documents/University/Semesters/Semester_5/Numerical Methods/Utils/methods/root_finding.py:239\u001b[0m, in \u001b[0;36mFixed_Point.fit\u001b[0;34m(self)\u001b[0m\n\u001b[1;32m    229\u001b[0m \u001b[38;5;28;01mwhile\u001b[39;00m error \u001b[38;5;241m>\u001b[39m \u001b[38;5;28mself\u001b[39m\u001b[38;5;241m.\u001b[39mtolerance:\n\u001b[1;32m    230\u001b[0m \n\u001b[1;32m    231\u001b[0m     \u001b[38;5;66;03m# Adding to history as a new row\u001b[39;00m\n\u001b[1;32m    232\u001b[0m     \u001b[38;5;28mself\u001b[39m\u001b[38;5;241m.\u001b[39madd_summary(\u001b[38;5;28mself\u001b[39m\u001b[38;5;241m.\u001b[39msteps,\n\u001b[1;32m    233\u001b[0m                      \u001b[38;5;28mself\u001b[39m\u001b[38;5;241m.\u001b[39mroot,\n\u001b[1;32m    234\u001b[0m                      error,\n\u001b[1;32m    235\u001b[0m                      errors\u001b[38;5;241m.\u001b[39mrelative(aprox_[\u001b[38;5;241m-\u001b[39m\u001b[38;5;241m2\u001b[39m], aprox_[\u001b[38;5;241m-\u001b[39m\u001b[38;5;241m1\u001b[39m])\n\u001b[1;32m    236\u001b[0m                     )\n\u001b[0;32m--> 239\u001b[0m     value_x \u001b[38;5;241m=\u001b[39m \u001b[38;5;28mself\u001b[39m\u001b[38;5;241m.\u001b[39mfunction(aprox_[\u001b[38;5;241m-\u001b[39m\u001b[38;5;241m1\u001b[39m])\n\u001b[1;32m    240\u001b[0m     aprox_\u001b[38;5;241m.\u001b[39mappend(value_x)\n\u001b[1;32m    242\u001b[0m     error \u001b[38;5;241m=\u001b[39m errors\u001b[38;5;241m.\u001b[39mabsolute(aprox_[\u001b[38;5;241m-\u001b[39m\u001b[38;5;241m2\u001b[39m], aprox_[\u001b[38;5;241m-\u001b[39m\u001b[38;5;241m1\u001b[39m])\n",
      "Cell \u001b[0;32mIn[2], line 40\u001b[0m, in \u001b[0;36mValue_Equation.solver_1a.<locals>.<lambda>\u001b[0;34m(x)\u001b[0m\n\u001b[1;32m     36\u001b[0m     val \u001b[38;5;241m=\u001b[39m \u001b[38;5;28mfloat\u001b[39m(amount\u001b[38;5;241m.\u001b[39msplit(\u001b[38;5;124m'\u001b[39m\u001b[38;5;124m/\u001b[39m\u001b[38;5;124m'\u001b[39m)[\u001b[38;5;241m1\u001b[39m])\n\u001b[1;32m     37\u001b[0m     month_ \u001b[38;5;241m=\u001b[39m month\n\u001b[0;32m---> 40\u001b[0m FP_instance\u001b[38;5;241m.\u001b[39mset_parameters(\u001b[38;5;241m0.1\u001b[39m,\u001b[38;5;241m10e-4\u001b[39m, \u001b[38;5;28;01mlambda\u001b[39;00m x: summation \u001b[38;5;241m+\u001b[39m x\u001b[38;5;241m/\u001b[39m(val\u001b[38;5;241m*\u001b[39m(\u001b[38;5;241m1\u001b[39m\u001b[38;5;241m+\u001b[39m\u001b[38;5;28mself\u001b[39m\u001b[38;5;241m.\u001b[39mrate)\u001b[38;5;241m*\u001b[39m\u001b[38;5;241m*\u001b[39mmonth_))\n\u001b[1;32m     41\u001b[0m FP_instance\u001b[38;5;241m.\u001b[39mfit()\n\u001b[1;32m     43\u001b[0m \u001b[38;5;28;01mreturn\u001b[39;00m FP_instance\n",
      "\u001b[0;31mNameError\u001b[0m: cannot access free variable 'val' where it is not associated with a value in enclosing scope"
     ]
    }
   ],
   "source": [
    "#@title Solución 1 C\n",
    "\n",
    "# Flujo de caja ejercicio 1 C\n",
    "cash_1c = [(50000,0), (200000,5), (350000,8)]\n",
    "\n",
    "instance_1c = Value_Equation(cash_1c, 2) # Instanciar de la clase Value_Equation\n",
    "solucion_1c = instance_1c.solver_1a()\n",
    "print(f'La raíz es ≈ {round(solucion_1c.root, 3)}') # Observar la raíz de la ecuación\n",
    "\n",
    "#solucion_1a.summary # Descomentar esta línea sí quiere ver un resumen de las iteraciones\n"
   ]
  },
  {
   "cell_type": "markdown",
   "metadata": {
    "id": "w2peJcjt1BXI"
   },
   "source": [
    "## Punto 2\n",
    "\n",
    "Construir una gráfica de tiempo en función de la precisión que compare los métodos para resolver:\n",
    "\n",
    "a) La solución numérica a la ecuación $e^x = 2(1 - x)$. Ayuda: está en el intervalo $[0, 3]$ <font color=#3e40c2>¡Resuelto!</font>\n",
    "\n",
    "b) Una aproximación numérica a la raíz de $f(x) = x^3 + x - 7$. Luego con 1.7 (raíz de f ) halle el error relativo de su aproximación. <font color=#3e40c2>¡Resuelto!</font>\n",
    "\n",
    "c) Halle la raíz positiva de la ecuación $x = 5(1 - e^{-x})$ con cinco decimales de aproximación. <font color=#3e40c2>¡Resuelto!</font>\n",
    "\n",
    "d ) Halle la raíz de la función $f(x) = x - 3e^{−x}$ con 6 decimales de aproximación. <font color=#dc8333>!Corregir!</font>\n"
   ]
  },
  {
   "cell_type": "markdown",
   "metadata": {
    "id": "W7NeuyM8Bz8k"
   },
   "source": [
    "<h4>Pasos</h4>\n",
    "\n",
    "Para este punto haremos uso de los siguientes dos pasos:\n",
    "\n",
    "1. Encontrar cada una de las soluciones.\n",
    "2. Construir la gráfica."
   ]
  },
  {
   "cell_type": "markdown",
   "metadata": {
    "id": "ri81wFNhCS5O"
   },
   "source": [
    "<h5>Paso 1: cálculo de raices</h5>\n",
    "\n",
    "**Nota**: Cuando estemos seguros que los resultados obtenidos estén bien, copiar el siguiente código para obtener los tiempos de ejecución y luego borrar esta nota... si algo despues lo dejamos más bonito.\n",
    "\n",
    "```python\n",
    "start_time_2a = time.time() # Tiempo inicial\n",
    "\n",
    "<códigos de cada punto>\n",
    "\n",
    "end_time_2a = time.time() # Tiempo final\n",
    "time_spent_2a = start_time_2a - end_time_2a # Tiempo gastado\n",
    "```"
   ]
  },
  {
   "cell_type": "code",
   "execution_count": 6,
   "metadata": {
    "colab": {
     "base_uri": "https://localhost:8080/"
    },
    "id": "tqe1FTutZkrf",
    "outputId": "0ad6d83b-e355-492e-bac3-bd9c24a57c76"
   },
   "outputs": [
    {
     "name": "stdout",
     "output_type": "stream",
     "text": [
      "La raíz es ≈ 0.315\n",
      "Con un error relativo de 0.317%\n"
     ]
    }
   ],
   "source": [
    "#@title Solución 1 A\n",
    "\n",
    "start_time_2a = time.time() # Tiempo inicial (antes de la ejecución)\n",
    "\n",
    "# Cálculo de la raíz mediante Punto fijo\n",
    "func_2a = lambda x: (np.exp(x)-2)/-2\n",
    "\n",
    "fix_point_2a = Fixed_Point()\n",
    "fix_point_2a.set_parameters(-1, 10e-6, func_2a)\n",
    "fix_point_2a.fit()\n",
    "\n",
    "end_time_2a = time.time() # Tiempo final (después de la ejecución)\n",
    "time_spent_2a = start_time_2a - end_time_2a # Tiempo gastado\n",
    "\n",
    "print(f'La raíz es ≈ {round(fix_point_2a.root, 3)}') # Observar la raíz de la ecuación\n",
    "print(f'Con un error relativo de {fix_point_2a.summary['Error Relative'][-1]}%')\n"
   ]
  },
  {
   "cell_type": "code",
   "execution_count": 7,
   "metadata": {
    "colab": {
     "base_uri": "https://localhost:8080/"
    },
    "id": "3Kd4sGun6yJk",
    "outputId": "1563adbc-ce96-4d30-a1ac-6e2d4992d990"
   },
   "outputs": [
    {
     "name": "stdout",
     "output_type": "stream",
     "text": [
      "La raíz es ≈ 1.739\n",
      "Con un error relativo de 0.345%\n"
     ]
    }
   ],
   "source": [
    "# Celda de código para la ejecución del punto 2b\n",
    "\n",
    "func_b = lambda x: x**3 + x -7\n",
    "derivated_b = lambda x: 3*x**2 + 1\n",
    "\n",
    "start_time_2b = time.time() # Tiempo inicial (antes de la ejecución)\n",
    "\n",
    "# Nomenclatura de la variable\n",
    "# <Tipo de método>__<punto>\n",
    "new_rap_2b = Newton_Raphson()\n",
    "new_rap_2b.set_parameters(10, 10e-6, func_b, derivated_b)\n",
    "new_rap_2b.fit()\n",
    "\n",
    "end_time_2b = time.time() # Tiempo final (después de la ejecución)\n",
    "time_spent_2b = start_time_2b - end_time_2b # Tiempo gastado\n",
    "\n",
    "print(f'La raíz es ≈ {round(new_rap_2b.root, 3)}') # Observar la raíz de la ecuación\n",
    "print(f'Con un error relativo de {new_rap_2b.summary['Error Relative'][-1]}%')\n",
    "\n"
   ]
  },
  {
   "cell_type": "code",
   "execution_count": 8,
   "metadata": {},
   "outputs": [
    {
     "name": "stdout",
     "output_type": "stream",
     "text": [
      "La raíz es ≈ 4.965\n",
      "Con un error relativo de 0.02%\n"
     ]
    }
   ],
   "source": [
    "# Celda de código para la ejecución del punto 2c\n",
    "\n",
    "func_c = lambda x: 5*(1-np.exp(-x))\n",
    "\n",
    "start_time_2c = time.time() # Tiempo inicial (antes de la ejecución)\n",
    "\n",
    "fix_point_2c = Fixed_Point()\n",
    "fix_point_2c.set_parameters(10, 10e-5, func_c)\n",
    "fix_point_2c.fit()\n",
    "\n",
    "end_time_2c = time.time() # Tiempo final (después de la ejecución)\n",
    "time_spent_2c = start_time_2c - end_time_2c # Tiempo gastado\n",
    "\n",
    "print(f'La raíz es ≈ {round(fix_point_2c.root, 3)}') # Observar la raíz de la ecuación\n",
    "print(f'Con un error relativo de {fix_point_2c.summary['Error Relative'][-1]}%')"
   ]
  },
  {
   "cell_type": "code",
   "execution_count": 18,
   "metadata": {
    "id": "4j4A-G_PyOqD"
   },
   "outputs": [
    {
     "ename": "KeyboardInterrupt",
     "evalue": "",
     "output_type": "error",
     "traceback": [
      "\u001b[0;31m---------------------------------------------------------------------------\u001b[0m",
      "\u001b[0;31mKeyboardInterrupt\u001b[0m                         Traceback (most recent call last)",
      "Cell \u001b[0;32mIn[18], line 9\u001b[0m\n\u001b[1;32m      7\u001b[0m fix_point_2d \u001b[38;5;241m=\u001b[39m Fixed_Point()\n\u001b[1;32m      8\u001b[0m fix_point_2d\u001b[38;5;241m.\u001b[39mset_parameters(\u001b[38;5;241m0.001\u001b[39m, \u001b[38;5;241m10e-6\u001b[39m, func_2d)\n\u001b[0;32m----> 9\u001b[0m fix_point_2d\u001b[38;5;241m.\u001b[39mfit()\n\u001b[1;32m     12\u001b[0m end_time_2d \u001b[38;5;241m=\u001b[39m time\u001b[38;5;241m.\u001b[39mtime() \u001b[38;5;66;03m# Tiempo final (después de la ejecución)\u001b[39;00m\n\u001b[1;32m     13\u001b[0m time_spent_2d \u001b[38;5;241m=\u001b[39m start_time_2d \u001b[38;5;241m-\u001b[39m end_time_2d \u001b[38;5;66;03m# Tiempo gastado\u001b[39;00m\n",
      "File \u001b[0;32m/mnt/My_Data/Documents/University/Semesters/Semester_5/Numerical Methods/Utils/methods/root_finding.py:235\u001b[0m, in \u001b[0;36mFixed_Point.fit\u001b[0;34m(self)\u001b[0m\n\u001b[1;32m    227\u001b[0m error \u001b[38;5;241m=\u001b[39m errors\u001b[38;5;241m.\u001b[39mabsolute(aprox_[\u001b[38;5;241m-\u001b[39m\u001b[38;5;241m2\u001b[39m], aprox_[\u001b[38;5;241m-\u001b[39m\u001b[38;5;241m1\u001b[39m]) \u001b[38;5;66;03m# initial error abs\u001b[39;00m\n\u001b[1;32m    229\u001b[0m \u001b[38;5;28;01mwhile\u001b[39;00m error \u001b[38;5;241m>\u001b[39m \u001b[38;5;28mself\u001b[39m\u001b[38;5;241m.\u001b[39mtolerance:\n\u001b[1;32m    230\u001b[0m \n\u001b[1;32m    231\u001b[0m     \u001b[38;5;66;03m# Adding to history as a new row\u001b[39;00m\n\u001b[1;32m    232\u001b[0m     \u001b[38;5;28mself\u001b[39m\u001b[38;5;241m.\u001b[39madd_summary(\u001b[38;5;28mself\u001b[39m\u001b[38;5;241m.\u001b[39msteps,\n\u001b[1;32m    233\u001b[0m                      \u001b[38;5;28mself\u001b[39m\u001b[38;5;241m.\u001b[39mroot,\n\u001b[1;32m    234\u001b[0m                      error,\n\u001b[0;32m--> 235\u001b[0m                      errors\u001b[38;5;241m.\u001b[39mrelative(aprox_[\u001b[38;5;241m-\u001b[39m\u001b[38;5;241m2\u001b[39m], aprox_[\u001b[38;5;241m-\u001b[39m\u001b[38;5;241m1\u001b[39m])\n\u001b[1;32m    236\u001b[0m                     )\n\u001b[1;32m    239\u001b[0m     value_x \u001b[38;5;241m=\u001b[39m \u001b[38;5;28mself\u001b[39m\u001b[38;5;241m.\u001b[39mfunction(aprox_[\u001b[38;5;241m-\u001b[39m\u001b[38;5;241m1\u001b[39m])\n\u001b[1;32m    240\u001b[0m     aprox_\u001b[38;5;241m.\u001b[39mappend(value_x)\n",
      "File \u001b[0;32m/mnt/My_Data/Documents/University/Semesters/Semester_5/Numerical Methods/Utils/errors/errors.py:17\u001b[0m, in \u001b[0;36mrelative\u001b[0;34m(approximate, real)\u001b[0m\n\u001b[1;32m     11\u001b[0m \u001b[38;5;28;01mdef\u001b[39;00m \u001b[38;5;21mrelative\u001b[39m(approximate, real):\n\u001b[1;32m     12\u001b[0m \u001b[38;5;250m    \u001b[39m\u001b[38;5;124;03m'''\u001b[39;00m\n\u001b[1;32m     13\u001b[0m \u001b[38;5;124;03m    Compute the relative error associated to\u001b[39;00m\n\u001b[1;32m     14\u001b[0m \u001b[38;5;124;03m    an approximated error.\u001b[39;00m\n\u001b[1;32m     15\u001b[0m \u001b[38;5;124;03m    '''\u001b[39;00m\n\u001b[0;32m---> 17\u001b[0m     error \u001b[38;5;241m=\u001b[39m absolute(approximate, real) \u001b[38;5;241m/\u001b[39m \u001b[38;5;28mabs\u001b[39m(real) \u001b[38;5;241m*\u001b[39m \u001b[38;5;241m100\u001b[39m\n\u001b[1;32m     19\u001b[0m     \u001b[38;5;28;01mreturn\u001b[39;00m \u001b[38;5;28mround\u001b[39m(error, \u001b[38;5;241m3\u001b[39m)\n",
      "File \u001b[0;32m/mnt/My_Data/Documents/University/Semesters/Semester_5/Numerical Methods/Utils/errors/errors.py:9\u001b[0m, in \u001b[0;36mabsolute\u001b[0;34m(approximate, real)\u001b[0m\n\u001b[1;32m      2\u001b[0m \u001b[38;5;250m\u001b[39m\u001b[38;5;124;03m'''\u001b[39;00m\n\u001b[1;32m      3\u001b[0m \u001b[38;5;124;03mCompute the relative error associated to\u001b[39;00m\n\u001b[1;32m      4\u001b[0m \u001b[38;5;124;03man approximated error.\u001b[39;00m\n\u001b[1;32m      5\u001b[0m \u001b[38;5;124;03m'''\u001b[39;00m\n\u001b[1;32m      7\u001b[0m error \u001b[38;5;241m=\u001b[39m \u001b[38;5;28mabs\u001b[39m(approximate \u001b[38;5;241m-\u001b[39m real)\n\u001b[0;32m----> 9\u001b[0m \u001b[38;5;28;01mreturn\u001b[39;00m \u001b[38;5;28mround\u001b[39m(error, \u001b[38;5;241m3\u001b[39m)\n",
      "\u001b[0;31mKeyboardInterrupt\u001b[0m: "
     ]
    }
   ],
   "source": [
    "# Celda de código para la ejecución del punto 2d\n",
    "\n",
    "start_time_2d = time.time() # Tiempo inicial (antes de la ejecución)\n",
    "\n",
    "func_2d = lambda x:  3*np.exp(-x)\n",
    "\n",
    "fix_point_2d = Fixed_Point()\n",
    "fix_point_2d.set_parameters(0.001, 10e-6, func_2d)\n",
    "fix_point_2d.fit()\n",
    "\n",
    "\n",
    "end_time_2d = time.time() # Tiempo final (después de la ejecución)\n",
    "time_spent_2d = start_time_2d - end_time_2d # Tiempo gastado\n",
    "\n",
    "print(f'La raíz es ≈ {round(fix_point_2d.root, 3)}') # Observar la raíz de la ecuación\n",
    "print(f'Con un error relativo de {fix_point_2d.summary['Error Relative'][-1]}%')"
   ]
  },
  {
   "cell_type": "code",
   "execution_count": 13,
   "metadata": {},
   "outputs": [
    {
     "data": {
      "text/plain": [
       "{'Iter': [0, 1],\n",
       " 'Root': [0, 0.0],\n",
       " 'Error ABS': [9999999999979, 20.0],\n",
       " 'Error Relative': [49999999999895.0, inf]}"
      ]
     },
     "execution_count": 13,
     "metadata": {},
     "output_type": "execute_result"
    }
   ],
   "source": [
    "new_rap_2d.summary"
   ]
  },
  {
   "cell_type": "markdown",
   "metadata": {
    "id": "c_qVNikWD7SE"
   },
   "source": [
    "<h5>Paso 2: visualización de las gráficas</h5>"
   ]
  },
  {
   "cell_type": "code",
   "execution_count": 15,
   "metadata": {
    "id": "1Zl-mvIpEEL7"
   },
   "outputs": [
    {
     "name": "stderr",
     "output_type": "stream",
     "text": [
      "/home/sebastian/miniconda3/envs/NumericalMethods/lib/python3.12/site-packages/seaborn/_oldcore.py:1119: FutureWarning: use_inf_as_na option is deprecated and will be removed in a future version. Convert inf values to NaN before operating instead.\n",
      "  with pd.option_context('mode.use_inf_as_na', True):\n",
      "/home/sebastian/miniconda3/envs/NumericalMethods/lib/python3.12/site-packages/seaborn/_oldcore.py:1119: FutureWarning: use_inf_as_na option is deprecated and will be removed in a future version. Convert inf values to NaN before operating instead.\n",
      "  with pd.option_context('mode.use_inf_as_na', True):\n",
      "/home/sebastian/miniconda3/envs/NumericalMethods/lib/python3.12/site-packages/seaborn/_oldcore.py:1119: FutureWarning: use_inf_as_na option is deprecated and will be removed in a future version. Convert inf values to NaN before operating instead.\n",
      "  with pd.option_context('mode.use_inf_as_na', True):\n",
      "/home/sebastian/miniconda3/envs/NumericalMethods/lib/python3.12/site-packages/seaborn/_oldcore.py:1119: FutureWarning: use_inf_as_na option is deprecated and will be removed in a future version. Convert inf values to NaN before operating instead.\n",
      "  with pd.option_context('mode.use_inf_as_na', True):\n",
      "/home/sebastian/miniconda3/envs/NumericalMethods/lib/python3.12/site-packages/seaborn/_oldcore.py:1119: FutureWarning: use_inf_as_na option is deprecated and will be removed in a future version. Convert inf values to NaN before operating instead.\n",
      "  with pd.option_context('mode.use_inf_as_na', True):\n",
      "/home/sebastian/miniconda3/envs/NumericalMethods/lib/python3.12/site-packages/seaborn/_oldcore.py:1119: FutureWarning: use_inf_as_na option is deprecated and will be removed in a future version. Convert inf values to NaN before operating instead.\n",
      "  with pd.option_context('mode.use_inf_as_na', True):\n",
      "/home/sebastian/miniconda3/envs/NumericalMethods/lib/python3.12/site-packages/seaborn/_oldcore.py:1119: FutureWarning: use_inf_as_na option is deprecated and will be removed in a future version. Convert inf values to NaN before operating instead.\n",
      "  with pd.option_context('mode.use_inf_as_na', True):\n",
      "/home/sebastian/miniconda3/envs/NumericalMethods/lib/python3.12/site-packages/seaborn/_oldcore.py:1119: FutureWarning: use_inf_as_na option is deprecated and will be removed in a future version. Convert inf values to NaN before operating instead.\n",
      "  with pd.option_context('mode.use_inf_as_na', True):\n"
     ]
    },
    {
     "data": {
      "text/plain": [
       "<function matplotlib.pyplot.show(close=None, block=None)>"
      ]
     },
     "execution_count": 15,
     "metadata": {},
     "output_type": "execute_result"
    },
    {
     "data": {
      "image/png": "[encoded data removed]",
      "text/plain": [
       "<Figure size 800x500 with 1 Axes>"
      ]
     },
     "metadata": {},
     "output_type": "display_data"
    }
   ],
   "source": [
    "plt.figure(figsize=(8,5))\n",
    "\n",
    "sns.lineplot(fix_point_2a.summary['Error ABS'], color='#FFA056', label='2-A')\n",
    "sns.lineplot(new_rap_2b.summary['Error ABS'], color='#58bb90', label='2-B')\n",
    "sns.lineplot(fix_point_2c.summary['Error ABS'], color='#0B84A5', label='2-C')\n",
    "sns.lineplot(fix_point_2c.summary['Error ABS'], color='#6F4E7C', label='2-B')\n",
    "\n",
    "plt.ylabel('Error absoluto')\n",
    "plt.xlabel('Iteraciones')\n",
    "plt.legend()\n",
    "plt.show"
   ]
  },
  {
   "cell_type": "markdown",
   "metadata": {
    "id": "CGG49wSS1B1E"
   },
   "source": [
    "## Punto 3\n",
    "\n",
    "Hallar los puntos críticos de forma numérica para las siguientes funciones\n",
    "\n",
    "a) $f(x) = e^{−x} - x$\n",
    "\n",
    "b) $f(x) = ln(x) - 5x^{2}$\n"
   ]
  },
  {
   "cell_type": "markdown",
   "metadata": {
    "id": "D_lEKiuHy-cE"
   },
   "source": [
    "<h4>Solución</h4>\n",
    "\n",
    "a) $f(x) = e^{−x} - x$\n",
    "\n",
    "\\begin{array}{ll}\n",
    "\\frac{df(x)}{dx} = -1e^{-x} - 1 & \\text{Derivando } f(x)\\\\\n",
    "-1e^{-x} - 1 = 0 & \\text{Igualando a } 0\\\\\n",
    "-1e^{-x} = 1 & \\text{Sumando 1 a ambos lados}\\\\\n",
    "e^{-x} = -1 & \\text{Dividiendo entre 1 a ambos lados}\n",
    "\\end{array}\n",
    "\n",
    "$\\quad$\n",
    "\n",
    "b) $f(x) = ln(x) - 5x^{2}$\n",
    "\n",
    "\\begin{array}{ll}\n",
    "\\frac{df(x)}{dx} = \\frac{1}{x} - 10x & \\text{Derivando } f(x)\\\\\n",
    "\\frac{1}{x} - 10x = 0 & \\text{Igualando la derivada a 0}\n",
    "\\end{array}"
   ]
  },
  {
   "cell_type": "markdown",
   "metadata": {
    "id": "HifVq_er1G6f"
   },
   "source": [
    "## Punto 4\n",
    "\n",
    "Construir un programa que calcule los betas de MCO, el error estándar y el $R^2$.\n",
    "\n",
    "a) Utilizar el programa para estimar los parámetros de los siguientes modelos con una base de datos dada.\n",
    "\n",
    "b) Comparar los resultados con los obtenidos por un módulo en Python\n"
   ]
  },
  {
   "cell_type": "code",
   "execution_count": null,
   "metadata": {
    "id": "z7JW4geZ1IV4"
   },
   "outputs": [],
   "source": [
    "class MCO:\n",
    "\n",
    "  def __init__(self, dataframe, predict_col, target_col):\n",
    "    '''\n",
    "    Create an instance of the MCO class\n",
    "    '''\n",
    "\n",
    "    self.dataframe = dataframe\n",
    "    self.predict_col = predict_col\n",
    "    self.target_col = target_col\n",
    "\n",
    "\n",
    "\n"
   ]
  },
  {
   "cell_type": "markdown",
   "metadata": {
    "id": "uFI1svp05TmI"
   },
   "source": [
    "## Punto 5\n",
    "\n",
    "Compute un equilibrio de Cournot para un duopolio. El problema es encontrar los dos resultados de producción para dos firmas, de tal manera que ninguna empresa encontraría ventajas en desviarse (unilateralmente) de esa producción. El problema que enfrenta cada empresa es que aumentar la producción puede aumentar los ingresos (la empresa vende más) pero también puede disminuir los precios (debido a una mayor disponibilidad).\n",
    "\n",
    "Por tanto, se debe buscar cantidades de producción que maximicen el beneficio neto. Las funciones de costos que tienen las dos firmas son:\n",
    "\n",
    "$$C_i(q_i) = \\frac{1}{2} \\cdot c_i \\cdot q_i \\quad i = 1, 2$$\n",
    "\n",
    "Suponga la función de demanda inversa (para todo el mercado):\n",
    "\n",
    "$$P(q) = q^{−1/γ}$$\n",
    "\n",
    "Esta función produce el precio de mercado, dada la oferta conjunta $q = q1 + q2$. El beneficio ($\\pi_i(q1, q2)$) de la firma i es ganancia menos costos. Para encontrar el equilibrio de Cournot, se debe hacer cumplir la condición de optimización de beneficio para la empresa 1, en función de su producción q1, y de beneficio para la empresa 2, como una función de q2. La condición de estacionariedad produce el siguiente conjunto de dos ecuaciones no lineales:\n",
    "\n",
    "$$f_i(q) = (q1 + q2)^{−1/γ} - (1/γ)(q1 + q2)^{\\frac{-1}{γ} -1} \\cdot q_i - c_i \\cdot q_i = 0 \\quad i = 1, 2.$$\n",
    "\n",
    "También se necesita la matriz jacobiana de $f_i(q)$. Asuma $γ = 0.6$, $c1 = 0.6$ y $c2 = 0.8$. Para resolver el problema por el método de Newton, se necesita una función que calcule tanto la función misma como el jacobiano.\n",
    "\n",
    "a) Construya la matriz Jacobiana.\n",
    "\n",
    "b) Construya la función que calcula la función y el Jacobiano\n",
    "\n",
    "c) Halle la solución del problema de optimización (raíz de la derivada de f) con ayuda de un método numérico visto en clase."
   ]
  },
  {
   "cell_type": "code",
   "execution_count": null,
   "metadata": {
    "id": "0DxpJ75M5dSi"
   },
   "outputs": [],
   "source": []
  },
  {
   "cell_type": "code",
   "execution_count": null,
   "metadata": {},
   "outputs": [],
   "source": []
  },
  {
   "cell_type": "code",
   "execution_count": null,
   "metadata": {},
   "outputs": [],
   "source": []
  },
  {
   "cell_type": "code",
   "execution_count": null,
   "metadata": {},
   "outputs": [],
   "source": []
  },
  {
   "cell_type": "code",
   "execution_count": null,
   "metadata": {},
   "outputs": [],
   "source": []
  },
  {
   "cell_type": "code",
   "execution_count": null,
   "metadata": {},
   "outputs": [],
   "source": []
  },
  {
   "cell_type": "code",
   "execution_count": null,
   "metadata": {},
   "outputs": [],
   "source": []
  },
  {
   "cell_type": "code",
   "execution_count": 6,
   "metadata": {},
   "outputs": [],
   "source": [
    "bis = Bisection()\n",
    "bis.set_parameters([-10,10], 10e-3000, lambda x:x+1)\n",
    "bis.fit()"
   ]
  },
  {
   "cell_type": "code",
   "execution_count": 7,
   "metadata": {},
   "outputs": [
    {
     "data": {
      "text/html": [
       "<div><style>\n",
       ".dataframe > thead > tr,\n",
       ".dataframe > tbody > tr {\n",
       "  text-align: right;\n",
       "  white-space: pre-wrap;\n",
       "}\n",
       "</style>\n",
       "<small>shape: (16, 4)</small><table border=\"1\" class=\"dataframe\"><thead><tr><th>Iter</th><th>Root</th><th>Error ABS</th><th>Error Relative</th></tr><tr><td>i64</td><td>f64</td><td>f64</td><td>f64</td></tr></thead><tbody><tr><td>1</td><td>0.0</td><td>10.0</td><td>100.0</td></tr><tr><td>2</td><td>-5.0</td><td>5.0</td><td>100.0</td></tr><tr><td>3</td><td>-2.5</td><td>2.5</td><td>100.0</td></tr><tr><td>4</td><td>-1.25</td><td>1.25</td><td>100.0</td></tr><tr><td>5</td><td>-0.625</td><td>0.625</td><td>50.0</td></tr><tr><td>&hellip;</td><td>&hellip;</td><td>&hellip;</td><td>&hellip;</td></tr><tr><td>12</td><td>-1.000977</td><td>0.005</td><td>0.5</td></tr><tr><td>13</td><td>-0.998535</td><td>0.002</td><td>0.2</td></tr><tr><td>14</td><td>-0.999756</td><td>0.001</td><td>0.1</td></tr><tr><td>15</td><td>-1.000366</td><td>0.001</td><td>0.1</td></tr><tr><td>16</td><td>-1.000061</td><td>0.0</td><td>0.0</td></tr></tbody></table></div>"
      ],
      "text/plain": [
       "shape: (16, 4)\n",
       "┌──────┬───────────┬───────────┬────────────────┐\n",
       "│ Iter ┆ Root      ┆ Error ABS ┆ Error Relative │\n",
       "│ ---  ┆ ---       ┆ ---       ┆ ---            │\n",
       "│ i64  ┆ f64       ┆ f64       ┆ f64            │\n",
       "╞══════╪═══════════╪═══════════╪════════════════╡\n",
       "│ 1    ┆ 0.0       ┆ 10.0      ┆ 100.0          │\n",
       "│ 2    ┆ -5.0      ┆ 5.0       ┆ 100.0          │\n",
       "│ 3    ┆ -2.5      ┆ 2.5       ┆ 100.0          │\n",
       "│ 4    ┆ -1.25     ┆ 1.25      ┆ 100.0          │\n",
       "│ 5    ┆ -0.625    ┆ 0.625     ┆ 50.0           │\n",
       "│ …    ┆ …         ┆ …         ┆ …              │\n",
       "│ 12   ┆ -1.000977 ┆ 0.005     ┆ 0.5            │\n",
       "│ 13   ┆ -0.998535 ┆ 0.002     ┆ 0.2            │\n",
       "│ 14   ┆ -0.999756 ┆ 0.001     ┆ 0.1            │\n",
       "│ 15   ┆ -1.000366 ┆ 0.001     ┆ 0.1            │\n",
       "│ 16   ┆ -1.000061 ┆ 0.0       ┆ 0.0            │\n",
       "└──────┴───────────┴───────────┴────────────────┘"
      ]
     },
     "execution_count": 7,
     "metadata": {},
     "output_type": "execute_result"
    }
   ],
   "source": [
    "bis.summary"
   ]
  },
  {
   "cell_type": "code",
   "execution_count": null,
   "metadata": {},
   "outputs": [],
   "source": [
    "def absolute(approximate, real):\n",
    "    '''\n",
    "    Compute the relative error associated to\n",
    "    an approximated error.\n",
    "    '''\n",
    "\n",
    "    error = abs(approximate - real)\n",
    "\n",
    "    return round(error, 3)\n",
    "\n",
    "def relative(approximate, real):\n",
    "    '''\n",
    "    Compute the relative error associated to\n",
    "    an approximated error.\n",
    "    '''\n",
    "\n",
    "    error = absolute(approximate, real) / abs(real) * 100\n",
    "\n",
    "    return round(error, 3)\n",
    "\n"
   ]
  }
 ],
 "metadata": {
  "colab": {
   "collapsed_sections": [
    "Y00fX7gnLf5w",
    "CGG49wSS1B1E",
    "HifVq_er1G6f"
   ],
   "provenance": []
  },
  "kernelspec": {
   "display_name": "NumericalMethods",
   "language": "python",
   "name": "numericalmethods"
  },
  "language_info": {
   "codemirror_mode": {
    "name": "ipython",
    "version": 3
   },
   "file_extension": ".py",
   "mimetype": "text/x-python",
   "name": "python",
   "nbconvert_exporter": "python",
   "pygments_lexer": "ipython3",
   "version": "3.12.1"
  }
 },
 "nbformat": 4,
 "nbformat_minor": 4
}
