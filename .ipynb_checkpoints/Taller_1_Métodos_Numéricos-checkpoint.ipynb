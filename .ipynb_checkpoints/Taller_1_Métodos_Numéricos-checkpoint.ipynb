{
 "cells": [
  {
   "cell_type": "markdown",
   "metadata": {
    "id": "aW8csNvd1Aju"
   },
   "source": [
    "Integrantes:\n",
    "\n",
    "+ Juan Pablo Niño\n",
    "+ Nicole Santana\n",
    "+ Sebastian Gómez"
   ]
  },
  {
   "cell_type": "markdown",
   "metadata": {
    "id": "Y00fX7gnLf5w"
   },
   "source": [
    "## Pasos previos"
   ]
  },
  {
   "cell_type": "markdown",
   "metadata": {
    "id": "3g9XdT-h7a4H"
   },
   "source": [
    "\n",
    "\n",
    "Para tener más orden durante el desarrollo del cuaderno, consideremos las siguientes nomenclaturas para definir variables:\n",
    "\n",
    "En primera instancia tendremos en cuenta las variables de instancias para cada uno de los métodos de busqueda de raices de la siguiente forma.\n",
    "\n",
    "```python\n",
    "bisect    = Bisection()\n",
    "secant    = Secant()\n",
    "new_rap   = Newton_Raphson()\n",
    "fix_point = Fixed_Point()\n",
    "```\n",
    "\n",
    "Más sin embargo como el implementar esta notación para cada punto hace que se sobre escriba la variable (usar bisect en el punto 1 y luego la misma nomenclatura en el punto 2) tendremos en cuenta el número del punto al que hace referencia de la siguiente forma:\n",
    "\n",
    "```python\n",
    "# <Nomenclatura_anterior>_<Punto>\n",
    "# Las siguientes formas son EJEMPLOS\n",
    "bisect_1     = Bisection()\n",
    "secant_2     = Secant()\n",
    "new_rap_3    = Newton_Raphson()\n",
    "fix_point_4  = Fixed_Point()\n",
    "```\n",
    "\n",
    "Por si llega a usarse el método de la bisección (por ejemplo) en más de una ocasión para el mismo punto (1,2,3,4,5), usaremos la siguiente notación.\n",
    "\n",
    "```python\n",
    "# <Nomenclatura_anterior>_<Punto_numeral>\n",
    "# Las siguientes formas son EJEMPLOS\n",
    "bisect_1a  = Bisection()\n",
    "bisect_1b  = Bisection()\n",
    "bisect_1c  = Bisection()\n",
    ".\n",
    ".\n",
    ".\n",
    "```"
   ]
  },
  {
   "cell_type": "code",
   "execution_count": 1,
   "metadata": {
    "id": "BgXNxkzkIivN"
   },
   "outputs": [],
   "source": [
    "\n",
    "from errors import errors # Errores\n",
    "from methods.root_finding import * # Métodos de busqueda de raices\n",
    "\n",
    "# Visualización\n",
    "import matplotlib.pyplot as plt\n",
    "import seaborn as sns\n",
    "\n",
    "\n",
    "# Librerías estándares\n",
    "import numpy as np # Importando numpy\n",
    "import time\n",
    "\n",
    "sns.set_style('darkgrid')"
   ]
  },
  {
   "cell_type": "markdown",
   "metadata": {
    "id": "2UsjzCHs1CY4"
   },
   "source": [
    "## Punto 1\n",
    "\n",
    "Ecuación de valor. Cuando se quiere hallar un flujo de caja equivalente se utiliza una ecuación de valor y así se construye una condición (ecuación) que permite hallar el flujo equivalente. En algunos caso, hallar la solución a dicha condición no es una tarea sencilla. El objetivo de este primer punto es construir una clase en Python que permita solucionar numéricamente las ecuaciones de valor. Tenga en cuenta que en algunos casos la variable de interés no es necesariamente el flujo de caja. Otras variables de interés puede ser la periodicidad, o una tasa de interés.\n",
    "\n",
    "**Reto: Construir una clase que reciba un argumento, (tasa, flujo o n). Si recibe**\n",
    "\n",
    "* tasa, entonces halle la tasa que cumple la ecuación de valor.\n",
    "* flujo, entonces halle el flujo que cumple la ecuación de valor.\n",
    "* n, entonces halle el valor n que cumple la ecuación de valor.\n",
    "\n",
    "Con ayuda de la clase construida, responder a los siguientes problemas:\n",
    "\n",
    "a) ¿Cuánto se debe depositar hoy en una cuenta de ahorros que paga un interés del 2% mensual, para poder retirar 75.000 dentro de seis meses,  45.000 dentro de ocho meses, la mitad de lo depositado dentro de diez meses y aún se tenga un saldo de  300.000 dentro de 12 meses? (Rta: 579.074.35) <font color=#3e40c2>¡Resuelto!, falta corregir unas cosas del método, me encargo de este</font>\n",
    "\n",
    "\n",
    "b) Usted tiene tres documentos por cobrar así: uno por 200.000 dentro de 4 meses,otro por 300.000 dentro de 6 meses y el último por 600.000 dentro de 8 meses. Pacta con su deudor cambiar los tres pagos por uno de 900.000. Si la operación financiera se realiza con una tasa de interés del 4 % mensual ¿en qué fecha se debe pagar?\n",
    "\n",
    "c) Pablo se comprometió a cancelar una deuda con los siguientes pagos: un pago en el día de hoy por valor de 50.000, un pago dentro de 5 meses por valor de $ 200.000 y un pago dentro de 8 meses por valor de 350.000. Posteriormente convino con el acreedor en cancelarle la deuda con dos pagos iguales en los meses 6 y 12. Calcular el valor de estos pagos, si la operación se realiza con una tasa de interés del 3 % mensual. (Rta: 324.144.53)"
   ]
  },
  {
   "cell_type": "code",
   "execution_count": 2,
   "metadata": {
    "id": "qZp2vAIL0-j0"
   },
   "outputs": [],
   "source": [
    "#@title Clase del punto 1\n",
    "\n",
    "# Tenga en cuenta que solo hay una ecuación, de la cual se puede sacar el flujo\n",
    "# (cuanto dinero se paga o se ahorra en un periodo de tiempo, ej: del mes 2 al mes 6)\n",
    "\n",
    "class Value_Equation:\n",
    "\n",
    "    SPACE = 5\n",
    "    # Formulas de valor presente y futuro\n",
    "    VP = lambda self, amount, month: amount/(1+self.rate)**month\n",
    "    VF = lambda self, amount, month: amount*(1+self.rate)**month\n",
    "\n",
    "\n",
    "    def __init__(self, cash_flow, rate):\n",
    "        '''\n",
    "\n",
    "        '''\n",
    "\n",
    "        self.cash_flow = cash_flow\n",
    "        self.rate = rate / 100\n",
    "\n",
    "    def solver_1a(self):\n",
    "        '''\n",
    "        '''\n",
    "\n",
    "        # Set the initial price\n",
    "        summation = 0\n",
    "        FP_instance = Fixed_Point()\n",
    "\n",
    "        # Itering all pay of cash flow\n",
    "        for amount, month in self.cash_flow:\n",
    "            try: # This is when there are not strings (unkown value)\n",
    "                summation += self.VP(amount, month)\n",
    "\n",
    "            except TypeError:\n",
    "                val = float(amount.split('/')[1])\n",
    "                month_ = month\n",
    "\n",
    "\n",
    "        FP_instance.set_parameters(0.1,10e-4, lambda x: summation + x/(val*(1+self.rate)**month_))\n",
    "        FP_instance.fit()\n",
    "\n",
    "        return FP_instance\n",
    "\n",
    "    def solve_1b(self):\n",
    "        # Set the initial price\n",
    "        summation = 0\n",
    "        FP_instance = Bisection()\n",
    "\n",
    "        # Itering all pay of cash flow\n",
    "        for amount, month in self.cash_flow:\n",
    "            try: # This is when there are not strings (unkown value)\n",
    "                summation += self.VP(amount, month)\n",
    "                print(amount, month)\n",
    "            except:\n",
    "                amount_= amount\n",
    "\n",
    "        FP_instance.set_parameters([-1,100], 10e-4, lambda x: (amount_/(1+self.rate)**x)-summation)\n",
    "        FP_instance.fit()\n",
    "\n",
    "        return FP_instance\n",
    "\n",
    "    def solver_1c(self):\n",
    "        # Set the initial price\n",
    "        summation = 0\n",
    "        summation2 = 0\n",
    "        FP_instance = Bisection()\n",
    "\n",
    "        # Itering all pay of cash flow\n",
    "        for amount, month in self.cash_flow:\n",
    "            try: # This is when there are not strings (unkown value)\n",
    "                summation += self.VP(amount, month)\n",
    "            except:\n",
    "                summation2 += self.VP(1, month)\n",
    "\n",
    "\n",
    "        FP_instance.set_parameters([-1,10000000], 10e-4, lambda x: x*summation2-summation)\n",
    "        FP_instance.fit()\n",
    "\n",
    "        return FP_instance"
   ]
  },
  {
   "cell_type": "code",
   "execution_count": 3,
   "metadata": {
    "colab": {
     "base_uri": "https://localhost:8080/"
    },
    "id": "NmZ34aMC74k_",
    "outputId": "b8fad28b-2164-46d5-85bf-18087da13b59"
   },
   "outputs": [
    {
     "name": "stdout",
     "output_type": "stream",
     "text": [
      "Numerador -> 0.1\t denominador -> 0.1\n",
      "Numerador -> 341552.814\t denominador -> 341552.9140594313\n",
      "Numerador -> 140096.135\t denominador -> 481649.049225046\n",
      "Numerador -> 57463.813\t denominador -> 539112.8623761421\n",
      "Numerador -> 23570.171\t denominador -> 562683.0330875646\n",
      "Numerador -> 9667.875\t denominador -> 572350.9078230059\n",
      "Numerador -> 3965.512\t denominador -> 576316.4201243186\n",
      "Numerador -> 1626.551\t denominador -> 577942.9707615764\n",
      "Numerador -> 667.169\t denominador -> 578610.1397865441\n",
      "Numerador -> 273.655\t denominador -> 578883.795274225\n",
      "Numerador -> 112.246\t denominador -> 578996.0416812602\n",
      "Numerador -> 46.041\t denominador -> 579042.0822558494\n",
      "Numerador -> 18.885\t denominador -> 579060.9669093941\n",
      "Numerador -> 7.746\t denominador -> 579068.7129061087\n",
      "Numerador -> 3.177\t denominador -> 579071.8901137266\n",
      "Numerador -> 1.303\t denominador -> 579073.1933221604\n",
      "Numerador -> 0.535\t denominador -> 579073.727864572\n",
      "Numerador -> 0.219\t denominador -> 579073.9471200512\n",
      "Numerador -> 0.09\t denominador -> 579074.0370529811\n",
      "Numerador -> 0.037\t denominador -> 579074.0739411442\n",
      "Numerador -> 0.015\t denominador -> 579074.089071715\n",
      "Numerador -> 0.006\t denominador -> 579074.095277884\n",
      "Numerador -> 0.003\t denominador -> 579074.0978234941\n",
      "La raíz es ≈ 579074.099\n"
     ]
    }
   ],
   "source": [
    "#@title Solución 1 A\n",
    "\n",
    "# Flujo de caja ejercicio 1 A\n",
    "cash_1a = [(75000,6), (45000,8), ('x/2', 10), (300000,12)]\n",
    "\n",
    "instance_1a = Value_Equation(cash_1a, 2) # Instanciar de la clase Value_Equation\n",
    "solucion_1a = instance_1a.solver_1a()\n",
    "print(f'La raíz es ≈ {round(solucion_1a.root, 3)}') # Observar la raíz de la ecuación\n",
    "\n",
    "#solucion_1a.summary # Descomentar esta línea sí quiere ver un resumen de las iteraciones"
   ]
  },
  {
   "cell_type": "code",
   "execution_count": 4,
   "metadata": {
    "colab": {
     "base_uri": "https://localhost:8080/"
    },
    "id": "m7w4uizgdQ0b",
    "outputId": "ac20894b-1735-4711-8d74-c12ec5bc76ec"
   },
   "outputs": [
    {
     "name": "stdout",
     "output_type": "stream",
     "text": [
      "200000 4\n",
      "300000 6\n",
      "600000 8\n",
      "Numerador -> 49.5\t denominador -> 49.5\n",
      "Numerador -> 25.25\t denominador -> 24.25\n",
      "Numerador -> 12.625\t denominador -> 11.625\n",
      "Numerador -> 6.312\t denominador -> 5.3125\n",
      "Numerador -> 3.156\t denominador -> 2.15625\n",
      "Numerador -> 1.578\t denominador -> 0.578125\n",
      "Numerador -> 0.789\t denominador -> 1.3671875\n",
      "Numerador -> 0.395\t denominador -> 1.76171875\n",
      "Numerador -> 0.197\t denominador -> 1.564453125\n",
      "Numerador -> 0.099\t denominador -> 1.4658203125\n",
      "Numerador -> 0.049\t denominador -> 1.51513671875\n",
      "Numerador -> 0.025\t denominador -> 1.539794921875\n",
      "Numerador -> 0.012\t denominador -> 1.5521240234375\n",
      "Numerador -> 0.006\t denominador -> 1.55828857421875\n",
      "Numerador -> 0.003\t denominador -> 1.561370849609375\n",
      "Numerador -> 0.002\t denominador -> 1.5629119873046875\n",
      "Numerador -> 0.001\t denominador -> 1.5636825561523438\n"
     ]
    },
    {
     "data": {
      "text/plain": [
       "1.5636825561523438"
      ]
     },
     "execution_count": 4,
     "metadata": {},
     "output_type": "execute_result"
    }
   ],
   "source": [
    "\n",
    "cash_1b = [(200000,4), (300000,6), (600000,8), (900000,'n')]\n",
    "instance_1b = Value_Equation(cash_1b, 4) # Instanciar de la clase Value_Equation\n",
    "solucion_1b = instance_1b.solve_1b()\n",
    "solucion_1b.root"
   ]
  },
  {
   "cell_type": "code",
   "execution_count": 5,
   "metadata": {
    "colab": {
     "base_uri": "https://localhost:8080/"
    },
    "id": "qK7tzlPuELFU",
    "outputId": "563efc5b-69dc-4867-aa75-6de816e74671"
   },
   "outputs": [
    {
     "name": "stdout",
     "output_type": "stream",
     "text": [
      "Numerador -> 4999999.5\t denominador -> 4999999.5\n",
      "Numerador -> 2500000.25\t denominador -> 2499999.25\n",
      "Numerador -> 1250000.125\t denominador -> 1249999.125\n",
      "Numerador -> 625000.062\t denominador -> 624999.0625\n",
      "Numerador -> 312500.031\t denominador -> 312499.03125\n",
      "Numerador -> 156250.016\t denominador -> 468749.046875\n",
      "Numerador -> 78125.008\t denominador -> 390624.0390625\n",
      "Numerador -> 39062.504\t denominador -> 351561.53515625\n",
      "Numerador -> 19531.252\t denominador -> 332030.283203125\n",
      "Numerador -> 9765.626\t denominador -> 322264.6572265625\n",
      "Numerador -> 4882.813\t denominador -> 327147.47021484375\n",
      "Numerador -> 2441.406\t denominador -> 324706.0637207031\n",
      "Numerador -> 1220.703\t denominador -> 323485.3604736328\n",
      "Numerador -> 610.352\t denominador -> 324095.71209716797\n",
      "Numerador -> 305.176\t denominador -> 324400.88790893555\n",
      "Numerador -> 152.588\t denominador -> 324248.30000305176\n",
      "Numerador -> 76.294\t denominador -> 324172.00605010986\n",
      "Numerador -> 38.147\t denominador -> 324133.8590736389\n",
      "Numerador -> 19.073\t denominador -> 324152.9325618744\n",
      "Numerador -> 9.537\t denominador -> 324143.39581775665\n",
      "Numerador -> 4.768\t denominador -> 324148.1641898155\n",
      "Numerador -> 2.384\t denominador -> 324145.7800037861\n",
      "Numerador -> 1.192\t denominador -> 324144.58791077137\n",
      "Numerador -> 0.596\t denominador -> 324145.1839572787\n",
      "Numerador -> 0.298\t denominador -> 324144.88593402505\n",
      "Numerador -> 0.149\t denominador -> 324145.0349456519\n",
      "Numerador -> 0.075\t denominador -> 324144.96043983847\n",
      "Numerador -> 0.037\t denominador -> 324144.92318693176\n",
      "Numerador -> 0.019\t denominador -> 324144.9045604784\n",
      "Numerador -> 0.009\t denominador -> 324144.9138737051\n",
      "Numerador -> 0.005\t denominador -> 324144.9185303184\n",
      "Numerador -> 0.002\t denominador -> 324144.91620201175\n",
      "Numerador -> 0.001\t denominador -> 324144.9173661651\n",
      "La raíz es ≈ 324144.917\n"
     ]
    }
   ],
   "source": [
    "#@title Solución 1 C\n",
    "\n",
    "# Flujo de caja ejercicio 1 C\n",
    "cash_1c = [(50000,0), (200000,5), (350000,8), ('x',6), ('x', 12)]\n",
    "\n",
    "instance_1c = Value_Equation(cash_1c, 3) # Instanciar de la clase Value_Equation\n",
    "solucion_1c = instance_1c.solver_1c()\n",
    "print(f'La raíz es ≈ {round(solucion_1c.root, 3)}') # Observar la raíz de la ecuación\n",
    "\n",
    "#solucion_1c.summary # Descomentar esta línea sí quiere ver un resumen de las iteraciones\n"
   ]
  },
  {
   "cell_type": "markdown",
   "metadata": {
    "id": "w2peJcjt1BXI"
   },
   "source": [
    "## Punto 2\n",
    "\n",
    "Construir una gráfica de tiempo en función de la precisión que compare los métodos para resolver:\n",
    "\n",
    "a) La solución numérica a la ecuación $e^x = 2(1 - x)$. Ayuda: está en el intervalo $[0, 3]$ <font color=#3e40c2>¡Resuelto!</font>\n",
    "\n",
    "b) Una aproximación numérica a la raíz de $f(x) = x^3 + x - 7$. Luego con 1.7 (raíz de f ) halle el error relativo de su aproximación. <font color=#3e40c2>¡Resuelto!</font>\n",
    "\n",
    "c) Halle la raíz positiva de la ecuación $x = 5(1 - e^{-x})$ con cinco decimales de aproximación. <font color=#3e40c2>¡Resuelto!</font>\n",
    "\n",
    "d ) Halle la raíz de la función $f(x) = x - 3e^{−x}$ con 6 decimales de aproximación. <font color=#dc8333>!Corregir!</font>\n"
   ]
  },
  {
   "cell_type": "markdown",
   "metadata": {
    "id": "W7NeuyM8Bz8k"
   },
   "source": [
    "<h4>Pasos</h4>\n",
    "\n",
    "Para este punto haremos uso de los siguientes dos pasos:\n",
    "\n",
    "1. Encontrar cada una de las soluciones.\n",
    "2. Construir la gráfica."
   ]
  },
  {
   "cell_type": "markdown",
   "metadata": {
    "id": "ri81wFNhCS5O"
   },
   "source": [
    "<h5>Paso 1: cálculo de raices</h5>\n",
    "\n",
    "**Nota**: Cuando estemos seguros que los resultados obtenidos estén bien, copiar el siguiente código para obtener los tiempos de ejecución y luego borrar esta nota... si algo despues lo dejamos más bonito.\n",
    "\n",
    "```python\n",
    "start_time_2a = time.time() # Tiempo inicial\n",
    "\n",
    "<códigos de cada punto>\n",
    "\n",
    "end_time_2a = time.time() # Tiempo final\n",
    "time_spent_2a = start_time_2a - end_time_2a # Tiempo gastado\n",
    "```"
   ]
  },
  {
   "cell_type": "code",
   "execution_count": 6,
   "metadata": {
    "colab": {
     "base_uri": "https://localhost:8080/"
    },
    "id": "tqe1FTutZkrf",
    "outputId": "36567974-bee7-4db3-f920-4be63aff9953"
   },
   "outputs": [
    {
     "name": "stdout",
     "output_type": "stream",
     "text": [
      "Numerador -> 1\t denominador -> 1\n",
      "Numerador -> 1.816\t denominador -> 0.8160602794142788\n",
      "Numerador -> 0.947\t denominador -> 0.13078615006568062\n",
      "Numerador -> 0.692\t denominador -> 0.5612973062928589\n",
      "Numerador -> 0.438\t denominador -> 0.12352743371059316\n",
      "Numerador -> 0.311\t denominador -> 0.4342594775800863\n",
      "Numerador -> 0.206\t denominador -> 0.22809029866396657\n",
      "Numerador -> 0.144\t denominador -> 0.37190062330991114\n",
      "Numerador -> 0.097\t denominador -> 0.2747555853241329\n",
      "Numerador -> 0.067\t denominador -> 0.3418955326149713\n",
      "Numerador -> 0.046\t denominador -> 0.2961933799207218\n",
      "Numerador -> 0.031\t denominador -> 0.32763491224761065\n",
      "Numerador -> 0.021\t denominador -> 0.30615887299921185\n",
      "Numerador -> 0.015\t denominador -> 0.32090096479555874\n",
      "Numerador -> 0.01\t denominador -> 0.31081546646416236\n",
      "Numerador -> 0.007\t denominador -> 0.31773130247929904\n",
      "Numerador -> 0.005\t denominador -> 0.312996490328465\n",
      "Numerador -> 0.003\t denominador -> 0.3162416342576816\n",
      "Numerador -> 0.002\t denominador -> 0.3140191357346668\n",
      "Numerador -> 0.002\t denominador -> 0.31554203424560434\n",
      "Numerador -> 0.001\t denominador -> 0.314498880121435\n",
      "Numerador -> 0.001\t denominador -> 0.3152135906003567\n",
      "La raíz es ≈ 0.315\n",
      "Con un error relativo de 0.317%\n"
     ]
    }
   ],
   "source": [
    "#@title Solución 2-A\n",
    "\n",
    "start_time_2a = time.time() # Tiempo inicial (antes de la ejecución)\n",
    "\n",
    "# Cálculo de la raíz mediante Punto fijo\n",
    "func_2a = lambda x: (np.exp(x)-2)/-2\n",
    "\n",
    "fix_point_2a = Fixed_Point()\n",
    "fix_point_2a.set_parameters(-1, 10e-6, func_2a)\n",
    "fix_point_2a.fit()\n",
    "\n",
    "end_time_2a = time.time() # Tiempo final (después de la ejecución)\n",
    "time_spent_2a = start_time_2a - end_time_2a # Tiempo gastado\n",
    "\n",
    "print(f'La raíz es ≈ {round(fix_point_2a.root, 3)}') # Observar la raíz de la ecuación\n",
    "print(f'Con un error relativo de {fix_point_2a.summary[\"Error Relative\"][-1]}%')"
   ]
  },
  {
   "cell_type": "code",
   "execution_count": 7,
   "metadata": {},
   "outputs": [
    {
     "data": {
      "text/html": [
       "<div><style>\n",
       ".dataframe > thead > tr,\n",
       ".dataframe > tbody > tr {\n",
       "  text-align: right;\n",
       "  white-space: pre-wrap;\n",
       "}\n",
       "</style>\n",
       "<small>shape: (22, 4)</small><table border=\"1\" class=\"dataframe\"><thead><tr><th>Iter</th><th>Root</th><th>Error ABS</th><th>Error Relative</th></tr><tr><td>i64</td><td>f64</td><td>f64</td><td>f64</td></tr></thead><tbody><tr><td>0</td><td>0.0</td><td>1.0</td><td>100.0</td></tr><tr><td>1</td><td>0.81606</td><td>1.816</td><td>222.533</td></tr><tr><td>2</td><td>-0.130786</td><td>0.947</td><td>724.083</td></tr><tr><td>3</td><td>0.561297</td><td>0.692</td><td>123.286</td></tr><tr><td>4</td><td>0.123527</td><td>0.438</td><td>354.577</td></tr><tr><td>&hellip;</td><td>&hellip;</td><td>&hellip;</td><td>&hellip;</td></tr><tr><td>17</td><td>0.316242</td><td>0.003</td><td>0.949</td></tr><tr><td>18</td><td>0.314019</td><td>0.002</td><td>0.637</td></tr><tr><td>19</td><td>0.315542</td><td>0.002</td><td>0.634</td></tr><tr><td>20</td><td>0.314499</td><td>0.001</td><td>0.318</td></tr><tr><td>21</td><td>0.315214</td><td>0.001</td><td>0.317</td></tr></tbody></table></div>"
      ],
      "text/plain": [
       "shape: (22, 4)\n",
       "┌──────┬───────────┬───────────┬────────────────┐\n",
       "│ Iter ┆ Root      ┆ Error ABS ┆ Error Relative │\n",
       "│ ---  ┆ ---       ┆ ---       ┆ ---            │\n",
       "│ i64  ┆ f64       ┆ f64       ┆ f64            │\n",
       "╞══════╪═══════════╪═══════════╪════════════════╡\n",
       "│ 0    ┆ 0.0       ┆ 1.0       ┆ 100.0          │\n",
       "│ 1    ┆ 0.81606   ┆ 1.816     ┆ 222.533        │\n",
       "│ 2    ┆ -0.130786 ┆ 0.947     ┆ 724.083        │\n",
       "│ 3    ┆ 0.561297  ┆ 0.692     ┆ 123.286        │\n",
       "│ 4    ┆ 0.123527  ┆ 0.438     ┆ 354.577        │\n",
       "│ …    ┆ …         ┆ …         ┆ …              │\n",
       "│ 17   ┆ 0.316242  ┆ 0.003     ┆ 0.949          │\n",
       "│ 18   ┆ 0.314019  ┆ 0.002     ┆ 0.637          │\n",
       "│ 19   ┆ 0.315542  ┆ 0.002     ┆ 0.634          │\n",
       "│ 20   ┆ 0.314499  ┆ 0.001     ┆ 0.318          │\n",
       "│ 21   ┆ 0.315214  ┆ 0.001     ┆ 0.317          │\n",
       "└──────┴───────────┴───────────┴────────────────┘"
      ]
     },
     "execution_count": 7,
     "metadata": {},
     "output_type": "execute_result"
    }
   ],
   "source": [
    "fix_point_2a.summary"
   ]
  },
  {
   "cell_type": "code",
   "execution_count": 8,
   "metadata": {
    "colab": {
     "base_uri": "https://localhost:8080/"
    },
    "id": "3Kd4sGun6yJk",
    "outputId": "43d5c59a-1d1f-4133-d490-7f52864dad03"
   },
   "outputs": [
    {
     "name": "stdout",
     "output_type": "stream",
     "text": [
      "Numerador -> 10\t denominador -> 10\n",
      "Numerador -> 3.0\t denominador -> 7.0\n",
      "Numerador -> 0.332\t denominador -> 6.667774086378738\n",
      "Numerador -> 1.985\t denominador -> 4.6824324324324325\n",
      "Numerador -> 0.218\t denominador -> 4.4641949452857315\n",
      "Numerador -> 1.284\t denominador -> 3.179702462505742\n",
      "Numerador -> 0.137\t denominador -> 3.0423260710157667\n",
      "Numerador -> 0.767\t denominador -> 2.2755616511459067\n",
      "Numerador -> 0.075\t denominador -> 2.201045290767083\n",
      "Numerador -> 0.352\t denominador -> 1.8486474276022364\n",
      "Numerador -> 0.025\t denominador -> 1.8235311149756592\n",
      "Numerador -> 0.079\t denominador -> 1.744990828845503\n",
      "Numerador -> 0.002\t denominador -> 1.7426935576173814\n",
      "Numerador -> 0.003\t denominador -> 1.7392211400057869\n",
      "La raíz es ≈ 1.739\n",
      "Con un error relativo de 0.172%\n"
     ]
    }
   ],
   "source": [
    "#@title Solución 2-B\n",
    "\n",
    "func_b = lambda x: x**3 + x -7\n",
    "derivated_b = lambda x: 3*x**2 + 1\n",
    "\n",
    "start_time_2b = time.time() # Tiempo inicial (antes de la ejecución)\n",
    "\n",
    "# Nomenclatura de la variable\n",
    "# <Tipo de método>__<punto>\n",
    "new_rap_2b = Newton_Raphson()\n",
    "new_rap_2b.set_parameters(10, 10e-6, func_b, derivated_b)\n",
    "new_rap_2b.fit()\n",
    "\n",
    "end_time_2b = time.time() # Tiempo final (después de la ejecución)\n",
    "time_spent_2b = start_time_2b - end_time_2b # Tiempo gastado\n",
    "\n",
    "print(f'La raíz es ≈ {round(new_rap_2b.root, 3)}') # Observar la raíz de la ecuación\n",
    "print(f'Con un error relativo de {new_rap_2b.summary[\"Error Relative\"][-1]}%')"
   ]
  },
  {
   "cell_type": "code",
   "execution_count": 9,
   "metadata": {
    "colab": {
     "base_uri": "https://localhost:8080/",
     "height": 882
    },
    "id": "37AGOMR_yT-y",
    "outputId": "52c97284-84ee-4402-9782-1c81c3925d2b"
   },
   "outputs": [
    {
     "data": {
      "text/html": [
       "<div><style>\n",
       ".dataframe > thead > tr,\n",
       ".dataframe > tbody > tr {\n",
       "  text-align: right;\n",
       "  white-space: pre-wrap;\n",
       "}\n",
       "</style>\n",
       "<small>shape: (14, 4)</small><table border=\"1\" class=\"dataframe\"><thead><tr><th>Iter</th><th>Root</th><th>Error ABS</th><th>Error Relative</th></tr><tr><td>i64</td><td>f64</td><td>f64</td><td>f64</td></tr></thead><tbody><tr><td>0</td><td>0.0</td><td>10.0</td><td>100.0</td></tr><tr><td>1</td><td>7.0</td><td>3.0</td><td>42.857</td></tr><tr><td>2</td><td>6.667774</td><td>0.332</td><td>4.979</td></tr><tr><td>3</td><td>4.682432</td><td>1.985</td><td>42.392</td></tr><tr><td>4</td><td>4.464195</td><td>0.218</td><td>4.883</td></tr><tr><td>&hellip;</td><td>&hellip;</td><td>&hellip;</td><td>&hellip;</td></tr><tr><td>9</td><td>1.848647</td><td>0.352</td><td>19.041</td></tr><tr><td>10</td><td>1.823531</td><td>0.025</td><td>1.371</td></tr><tr><td>11</td><td>1.744991</td><td>0.079</td><td>4.527</td></tr><tr><td>12</td><td>1.742694</td><td>0.002</td><td>0.115</td></tr><tr><td>13</td><td>1.739221</td><td>0.003</td><td>0.172</td></tr></tbody></table></div>"
      ],
      "text/plain": [
       "shape: (14, 4)\n",
       "┌──────┬──────────┬───────────┬────────────────┐\n",
       "│ Iter ┆ Root     ┆ Error ABS ┆ Error Relative │\n",
       "│ ---  ┆ ---      ┆ ---       ┆ ---            │\n",
       "│ i64  ┆ f64      ┆ f64       ┆ f64            │\n",
       "╞══════╪══════════╪═══════════╪════════════════╡\n",
       "│ 0    ┆ 0.0      ┆ 10.0      ┆ 100.0          │\n",
       "│ 1    ┆ 7.0      ┆ 3.0       ┆ 42.857         │\n",
       "│ 2    ┆ 6.667774 ┆ 0.332     ┆ 4.979          │\n",
       "│ 3    ┆ 4.682432 ┆ 1.985     ┆ 42.392         │\n",
       "│ 4    ┆ 4.464195 ┆ 0.218     ┆ 4.883          │\n",
       "│ …    ┆ …        ┆ …         ┆ …              │\n",
       "│ 9    ┆ 1.848647 ┆ 0.352     ┆ 19.041         │\n",
       "│ 10   ┆ 1.823531 ┆ 0.025     ┆ 1.371          │\n",
       "│ 11   ┆ 1.744991 ┆ 0.079     ┆ 4.527          │\n",
       "│ 12   ┆ 1.742694 ┆ 0.002     ┆ 0.115          │\n",
       "│ 13   ┆ 1.739221 ┆ 0.003     ┆ 0.172          │\n",
       "└──────┴──────────┴───────────┴────────────────┘"
      ]
     },
     "execution_count": 9,
     "metadata": {},
     "output_type": "execute_result"
    }
   ],
   "source": [
    "new_rap_2b.summary"
   ]
  },
  {
   "cell_type": "code",
   "execution_count": 10,
   "metadata": {
    "colab": {
     "base_uri": "https://localhost:8080/"
    },
    "id": "2j_WqKyAwhFh",
    "outputId": "b576f785-743a-42c2-d21a-466c682b2931"
   },
   "outputs": [
    {
     "name": "stdout",
     "output_type": "stream",
     "text": [
      "Numerador -> 10\t denominador -> 10\n",
      "Numerador -> 5.0\t denominador -> 4.999773000351188\n",
      "Numerador -> 0.033\t denominador -> 4.966302616578498\n",
      "Numerador -> 0.001\t denominador -> 4.965155664838095\n",
      "La raíz es ≈ 4.965\n",
      "Con un error relativo de 0.02%\n"
     ]
    }
   ],
   "source": [
    "#@title Solución 2-C\n",
    "\n",
    "func_c = lambda x: 5*(1-np.exp(-x))\n",
    "\n",
    "start_time_2c = time.time() # Tiempo inicial (antes de la ejecución)\n",
    "\n",
    "fix_point_2c = Fixed_Point()\n",
    "fix_point_2c.set_parameters(10, 10e-5, func_c)\n",
    "fix_point_2c.fit()\n",
    "\n",
    "end_time_2c = time.time() # Tiempo final (después de la ejecución)\n",
    "time_spent_2c = start_time_2c - end_time_2c # Tiempo gastado\n",
    "\n",
    "print(f'La raíz es ≈ {round(fix_point_2c.root, 3)}') # Observar la raíz de la ecuación\n",
    "print(f'Con un error relativo de {fix_point_2c.summary[\"Error Relative\"][-1]}%')"
   ]
  },
  {
   "cell_type": "code",
   "execution_count": 11,
   "metadata": {
    "colab": {
     "base_uri": "https://localhost:8080/"
    },
    "id": "4j4A-G_PyOqD",
    "outputId": "6515cbde-611e-43d8-afc2-2fde3a217ada"
   },
   "outputs": [
    {
     "name": "stdout",
     "output_type": "stream",
     "text": [
      "Numerador -> 0.5\t denominador -> 0.5\n",
      "Numerador -> 0.75\t denominador -> 1.25\n",
      "Numerador -> 0.375\t denominador -> 0.875\n",
      "Numerador -> 0.188\t denominador -> 1.0625\n",
      "Numerador -> 0.094\t denominador -> 0.96875\n",
      "Numerador -> 0.047\t denominador -> 1.015625\n",
      "Numerador -> 0.023\t denominador -> 1.0390625\n",
      "Numerador -> 0.012\t denominador -> 1.05078125\n",
      "Numerador -> 0.006\t denominador -> 1.044921875\n",
      "Numerador -> 0.003\t denominador -> 1.0478515625\n",
      "Numerador -> 0.001\t denominador -> 1.04931640625\n",
      "La raíz es ≈ 1.049\n",
      "Con un error relativo de 0.095%\n"
     ]
    }
   ],
   "source": [
    "#@title Solución 2-D\n",
    "\n",
    "start_time_2d = time.time() # Tiempo inicial (antes de la ejecución)\n",
    "\n",
    "func_2d = lambda x: x-3*np.exp(-x)\n",
    "\n",
    "bis_2d = Bisection()\n",
    "bis_2d.set_parameters([-1,2], 10e-4, func_2d)\n",
    "bis_2d.fit()\n",
    "\n",
    "end_time_2d = time.time() # Tiempo final (después de la ejecución)\n",
    "time_spent_2d = start_time_2d - end_time_2d # Tiempo gastado\n",
    "\n",
    "print(f'La raíz es ≈ {round(bis_2d.root, 3)}') # Observar la raíz de la ecuación\n",
    "print(f'Con un error relativo de {bis_2d.summary[\"Error Relative\"][-1]}%')"
   ]
  },
  {
   "cell_type": "markdown",
   "metadata": {
    "id": "c_qVNikWD7SE"
   },
   "source": [
    "<h5>Paso 2: visualización de las gráficas</h5>"
   ]
  },
  {
   "cell_type": "code",
   "execution_count": 12,
   "metadata": {
    "colab": {
     "base_uri": "https://localhost:8080/",
     "height": 480
    },
    "id": "1Zl-mvIpEEL7",
    "outputId": "6e910ebf-0ff2-4d1a-c762-361e38a99783"
   },
   "outputs": [
    {
     "name": "stderr",
     "output_type": "stream",
     "text": [
      "/home/sebastian/miniconda3/envs/NumericalMethods/lib/python3.12/site-packages/seaborn/_oldcore.py:1119: FutureWarning: use_inf_as_na option is deprecated and will be removed in a future version. Convert inf values to NaN before operating instead.\n",
      "  with pd.option_context('mode.use_inf_as_na', True):\n",
      "/home/sebastian/miniconda3/envs/NumericalMethods/lib/python3.12/site-packages/seaborn/_oldcore.py:1119: FutureWarning: use_inf_as_na option is deprecated and will be removed in a future version. Convert inf values to NaN before operating instead.\n",
      "  with pd.option_context('mode.use_inf_as_na', True):\n",
      "/home/sebastian/miniconda3/envs/NumericalMethods/lib/python3.12/site-packages/seaborn/_oldcore.py:1119: FutureWarning: use_inf_as_na option is deprecated and will be removed in a future version. Convert inf values to NaN before operating instead.\n",
      "  with pd.option_context('mode.use_inf_as_na', True):\n",
      "/home/sebastian/miniconda3/envs/NumericalMethods/lib/python3.12/site-packages/seaborn/_oldcore.py:1119: FutureWarning: use_inf_as_na option is deprecated and will be removed in a future version. Convert inf values to NaN before operating instead.\n",
      "  with pd.option_context('mode.use_inf_as_na', True):\n",
      "/home/sebastian/miniconda3/envs/NumericalMethods/lib/python3.12/site-packages/seaborn/_oldcore.py:1119: FutureWarning: use_inf_as_na option is deprecated and will be removed in a future version. Convert inf values to NaN before operating instead.\n",
      "  with pd.option_context('mode.use_inf_as_na', True):\n",
      "/home/sebastian/miniconda3/envs/NumericalMethods/lib/python3.12/site-packages/seaborn/_oldcore.py:1119: FutureWarning: use_inf_as_na option is deprecated and will be removed in a future version. Convert inf values to NaN before operating instead.\n",
      "  with pd.option_context('mode.use_inf_as_na', True):\n",
      "/home/sebastian/miniconda3/envs/NumericalMethods/lib/python3.12/site-packages/seaborn/_oldcore.py:1119: FutureWarning: use_inf_as_na option is deprecated and will be removed in a future version. Convert inf values to NaN before operating instead.\n",
      "  with pd.option_context('mode.use_inf_as_na', True):\n",
      "/home/sebastian/miniconda3/envs/NumericalMethods/lib/python3.12/site-packages/seaborn/_oldcore.py:1119: FutureWarning: use_inf_as_na option is deprecated and will be removed in a future version. Convert inf values to NaN before operating instead.\n",
      "  with pd.option_context('mode.use_inf_as_na', True):\n"
     ]
    },
    {
     "data": {
      "image/png": "[encoded data removed]",
      "text/plain": [
       "<Figure size 800x500 with 1 Axes>"
      ]
     },
     "metadata": {},
     "output_type": "display_data"
    }
   ],
   "source": [
    "plt.figure(figsize=(8,5))\n",
    "\n",
    "sns.lineplot(fix_point_2a.summary['Error ABS'], color='#FFA056', label='2-A')\n",
    "sns.lineplot(new_rap_2b.summary['Error ABS'], color='#58bb90', label='2-B')\n",
    "sns.lineplot(fix_point_2c.summary['Error ABS'], color='#0B84A5', label='2-C')\n",
    "sns.lineplot(bis_2d.summary['Error ABS'], color='#6F4E7C', label='2-D')\n",
    "\n",
    "plt.ylabel('Error absoluto')\n",
    "plt.xlabel('Iteraciones')\n",
    "plt.legend()\n",
    "plt.show()"
   ]
  },
  {
   "cell_type": "code",
   "execution_count": 15,
   "metadata": {
    "colab": {
     "base_uri": "https://localhost:8080/",
     "height": 480
    },
    "id": "6InFyDsPdqQs",
    "outputId": "23697cd8-a454-424f-d7ec-ecff422ab7d4"
   },
   "outputs": [
    {
     "name": "stderr",
     "output_type": "stream",
     "text": [
      "/home/sebastian/miniconda3/envs/NumericalMethods/lib/python3.12/site-packages/seaborn/_oldcore.py:1119: FutureWarning: use_inf_as_na option is deprecated and will be removed in a future version. Convert inf values to NaN before operating instead.\n",
      "  with pd.option_context('mode.use_inf_as_na', True):\n",
      "/home/sebastian/miniconda3/envs/NumericalMethods/lib/python3.12/site-packages/seaborn/_oldcore.py:1119: FutureWarning: use_inf_as_na option is deprecated and will be removed in a future version. Convert inf values to NaN before operating instead.\n",
      "  with pd.option_context('mode.use_inf_as_na', True):\n",
      "/home/sebastian/miniconda3/envs/NumericalMethods/lib/python3.12/site-packages/seaborn/_oldcore.py:1119: FutureWarning: use_inf_as_na option is deprecated and will be removed in a future version. Convert inf values to NaN before operating instead.\n",
      "  with pd.option_context('mode.use_inf_as_na', True):\n",
      "/home/sebastian/miniconda3/envs/NumericalMethods/lib/python3.12/site-packages/seaborn/_oldcore.py:1119: FutureWarning: use_inf_as_na option is deprecated and will be removed in a future version. Convert inf values to NaN before operating instead.\n",
      "  with pd.option_context('mode.use_inf_as_na', True):\n",
      "/home/sebastian/miniconda3/envs/NumericalMethods/lib/python3.12/site-packages/seaborn/_oldcore.py:1119: FutureWarning: use_inf_as_na option is deprecated and will be removed in a future version. Convert inf values to NaN before operating instead.\n",
      "  with pd.option_context('mode.use_inf_as_na', True):\n",
      "/home/sebastian/miniconda3/envs/NumericalMethods/lib/python3.12/site-packages/seaborn/_oldcore.py:1119: FutureWarning: use_inf_as_na option is deprecated and will be removed in a future version. Convert inf values to NaN before operating instead.\n",
      "  with pd.option_context('mode.use_inf_as_na', True):\n",
      "/home/sebastian/miniconda3/envs/NumericalMethods/lib/python3.12/site-packages/seaborn/_oldcore.py:1119: FutureWarning: use_inf_as_na option is deprecated and will be removed in a future version. Convert inf values to NaN before operating instead.\n",
      "  with pd.option_context('mode.use_inf_as_na', True):\n",
      "/home/sebastian/miniconda3/envs/NumericalMethods/lib/python3.12/site-packages/seaborn/_oldcore.py:1119: FutureWarning: use_inf_as_na option is deprecated and will be removed in a future version. Convert inf values to NaN before operating instead.\n",
      "  with pd.option_context('mode.use_inf_as_na', True):\n"
     ]
    },
    {
     "data": {
      "image/png": "[encoded data removed]",
      "text/plain": [
       "<Figure size 800x500 with 1 Axes>"
      ]
     },
     "metadata": {},
     "output_type": "display_data"
    }
   ],
   "source": [
    "plt.figure(figsize=(8,5))\n",
    "\n",
    "sns.lineplot(fix_point_2a.summary['Error Relative'], color='#FFA056', label='2-A')\n",
    "sns.lineplot(new_rap_2b.summary['Error Relative'], color='#58bb90', label='2-B')\n",
    "sns.lineplot(fix_point_2c.summary['Error Relative'], color='#0B84A5', label='2-C')\n",
    "sns.lineplot(bis_2d.summary['Error Relative'], color='#6F4E7C', label='2-D')\n",
    "\n",
    "plt.ylabel('Error Relativo')\n",
    "plt.xlabel('Iteraciones')\n",
    "plt.legend()\n",
    "plt.show()"
   ]
  },
  {
   "cell_type": "markdown",
   "metadata": {
    "id": "CGG49wSS1B1E"
   },
   "source": [
    "## Punto 3\n",
    "\n",
    "Hallar los puntos críticos de forma numérica para las siguientes funciones\n",
    "\n",
    "a) $f(x) = e^{−x} - x$\n",
    "\n",
    "b) $f(x) = ln(x) - 5x^{2}$\n"
   ]
  },
  {
   "cell_type": "markdown",
   "metadata": {
    "id": "D_lEKiuHy-cE"
   },
   "source": [
    "<h4>Solución</h4>\n",
    "\n",
    "a) $f(x) = e^{−x} - x$\n",
    "\n",
    "\\begin{array}{ll}\n",
    "\\frac{df}{dx} = -1e^{-x} - 1 & \\text{Derivando } f(x)\\\\\n",
    "-1e^{-x} - 1 = 0 & \\text{Igualando a } 0\\\\\n",
    "-1e^{-x} = 1 & \\text{Sumando 1 a ambos lados}\\\\\n",
    "e^{-x} = -1 & \\text{Dividiendo entre 1 a ambos lados}\n",
    "\\end{array}\n",
    "\n",
    "$\\quad$\n",
    "\n",
    "b) $f(x) = ln(x) - 5x^{2}$\n",
    "\n",
    "\\begin{array}{ll}\n",
    "\\frac{df}{dx} = \\frac{1}{x} - 10x & \\text{Derivando } f(x)\\\\\n",
    "\\frac{1}{x} - 10x = 0 & \\text{Igualando la derivada a 0}\\\\\n",
    "\\frac{-0 \\pm \\sqrt{(0)^{2} - 4 \\cdot -10 \\cdot 1}}{2 \\cdot -10} & \\text{Aplicando formula de foctorización}\\\\\n",
    "\\pm \\frac{\\sqrt{40}}{-20} & \\text{Resolviendo formula}\\\\\n",
    "\\frac{\\sqrt{40}}{-20} ≈ 0.3162 \\\\\n",
    "x = 0.3162 \\text{ ^ } x = -0.3162\n",
    "\\end{array}"
   ]
  },
  {
   "cell_type": "markdown",
   "metadata": {
    "id": "HifVq_er1G6f"
   },
   "source": [
    "## Punto 4\n",
    "\n",
    "Construir un programa que calcule los betas de MCO, el error estándar y el $R^2$.\n",
    "\n",
    "a) Utilizar el programa para estimar los parámetros de los siguientes modelos con una base de datos dada.\n",
    "\n",
    "b) Comparar los resultados con los obtenidos por un módulo en Python\n"
   ]
  },
  {
   "cell_type": "markdown",
   "metadata": {
    "id": "p7RFVL5q_4aV"
   },
   "source": [
    "Punto A:"
   ]
  },
  {
   "cell_type": "code",
   "execution_count": 14,
   "metadata": {
    "colab": {
     "base_uri": "https://localhost:8080/",
     "height": 401
    },
    "id": "3S5gsgCuN-QT",
    "outputId": "62cbef37-3ed9-458f-b4ef-ba4f4ccc29cc"
   },
   "outputs": [
    {
     "ename": "FileNotFoundError",
     "evalue": "[Errno 2] No such file or directory: '/content/base_p4.csv'",
     "output_type": "error",
     "traceback": [
      "\u001b[0;31m---------------------------------------------------------------------------\u001b[0m",
      "\u001b[0;31mFileNotFoundError\u001b[0m                         Traceback (most recent call last)",
      "Cell \u001b[0;32mIn[14], line 4\u001b[0m\n\u001b[1;32m      1\u001b[0m \u001b[38;5;28;01mimport\u001b[39;00m \u001b[38;5;21;01mnumpy\u001b[39;00m \u001b[38;5;28;01mas\u001b[39;00m \u001b[38;5;21;01mnp\u001b[39;00m\n\u001b[1;32m      2\u001b[0m \u001b[38;5;28;01mimport\u001b[39;00m \u001b[38;5;21;01mpandas\u001b[39;00m \u001b[38;5;28;01mas\u001b[39;00m \u001b[38;5;21;01mpd\u001b[39;00m\n\u001b[0;32m----> 4\u001b[0m datos \u001b[38;5;241m=\u001b[39m pd\u001b[38;5;241m.\u001b[39mread_csv(\u001b[38;5;124m\"\u001b[39m\u001b[38;5;124m/content/base_p4.csv\u001b[39m\u001b[38;5;124m\"\u001b[39m)\n\u001b[1;32m      5\u001b[0m datos \u001b[38;5;241m=\u001b[39m datos\u001b[38;5;241m.\u001b[39mdrop(\u001b[38;5;124m\"\u001b[39m\u001b[38;5;124mUnnamed: 0\u001b[39m\u001b[38;5;124m\"\u001b[39m, axis\u001b[38;5;241m=\u001b[39m\u001b[38;5;241m1\u001b[39m)\n\u001b[1;32m      7\u001b[0m \u001b[38;5;28;01mclass\u001b[39;00m \u001b[38;5;21;01mMCO\u001b[39;00m:\n",
      "File \u001b[0;32m~/miniconda3/envs/NumericalMethods/lib/python3.12/site-packages/pandas/io/parsers/readers.py:948\u001b[0m, in \u001b[0;36mread_csv\u001b[0;34m(filepath_or_buffer, sep, delimiter, header, names, index_col, usecols, dtype, engine, converters, true_values, false_values, skipinitialspace, skiprows, skipfooter, nrows, na_values, keep_default_na, na_filter, verbose, skip_blank_lines, parse_dates, infer_datetime_format, keep_date_col, date_parser, date_format, dayfirst, cache_dates, iterator, chunksize, compression, thousands, decimal, lineterminator, quotechar, quoting, doublequote, escapechar, comment, encoding, encoding_errors, dialect, on_bad_lines, delim_whitespace, low_memory, memory_map, float_precision, storage_options, dtype_backend)\u001b[0m\n\u001b[1;32m    935\u001b[0m kwds_defaults \u001b[38;5;241m=\u001b[39m _refine_defaults_read(\n\u001b[1;32m    936\u001b[0m     dialect,\n\u001b[1;32m    937\u001b[0m     delimiter,\n\u001b[0;32m   (...)\u001b[0m\n\u001b[1;32m    944\u001b[0m     dtype_backend\u001b[38;5;241m=\u001b[39mdtype_backend,\n\u001b[1;32m    945\u001b[0m )\n\u001b[1;32m    946\u001b[0m kwds\u001b[38;5;241m.\u001b[39mupdate(kwds_defaults)\n\u001b[0;32m--> 948\u001b[0m \u001b[38;5;28;01mreturn\u001b[39;00m _read(filepath_or_buffer, kwds)\n",
      "File \u001b[0;32m~/miniconda3/envs/NumericalMethods/lib/python3.12/site-packages/pandas/io/parsers/readers.py:611\u001b[0m, in \u001b[0;36m_read\u001b[0;34m(filepath_or_buffer, kwds)\u001b[0m\n\u001b[1;32m    608\u001b[0m _validate_names(kwds\u001b[38;5;241m.\u001b[39mget(\u001b[38;5;124m\"\u001b[39m\u001b[38;5;124mnames\u001b[39m\u001b[38;5;124m\"\u001b[39m, \u001b[38;5;28;01mNone\u001b[39;00m))\n\u001b[1;32m    610\u001b[0m \u001b[38;5;66;03m# Create the parser.\u001b[39;00m\n\u001b[0;32m--> 611\u001b[0m parser \u001b[38;5;241m=\u001b[39m TextFileReader(filepath_or_buffer, \u001b[38;5;241m*\u001b[39m\u001b[38;5;241m*\u001b[39mkwds)\n\u001b[1;32m    613\u001b[0m \u001b[38;5;28;01mif\u001b[39;00m chunksize \u001b[38;5;129;01mor\u001b[39;00m iterator:\n\u001b[1;32m    614\u001b[0m     \u001b[38;5;28;01mreturn\u001b[39;00m parser\n",
      "File \u001b[0;32m~/miniconda3/envs/NumericalMethods/lib/python3.12/site-packages/pandas/io/parsers/readers.py:1448\u001b[0m, in \u001b[0;36mTextFileReader.__init__\u001b[0;34m(self, f, engine, **kwds)\u001b[0m\n\u001b[1;32m   1445\u001b[0m     \u001b[38;5;28mself\u001b[39m\u001b[38;5;241m.\u001b[39moptions[\u001b[38;5;124m\"\u001b[39m\u001b[38;5;124mhas_index_names\u001b[39m\u001b[38;5;124m\"\u001b[39m] \u001b[38;5;241m=\u001b[39m kwds[\u001b[38;5;124m\"\u001b[39m\u001b[38;5;124mhas_index_names\u001b[39m\u001b[38;5;124m\"\u001b[39m]\n\u001b[1;32m   1447\u001b[0m \u001b[38;5;28mself\u001b[39m\u001b[38;5;241m.\u001b[39mhandles: IOHandles \u001b[38;5;241m|\u001b[39m \u001b[38;5;28;01mNone\u001b[39;00m \u001b[38;5;241m=\u001b[39m \u001b[38;5;28;01mNone\u001b[39;00m\n\u001b[0;32m-> 1448\u001b[0m \u001b[38;5;28mself\u001b[39m\u001b[38;5;241m.\u001b[39m_engine \u001b[38;5;241m=\u001b[39m \u001b[38;5;28mself\u001b[39m\u001b[38;5;241m.\u001b[39m_make_engine(f, \u001b[38;5;28mself\u001b[39m\u001b[38;5;241m.\u001b[39mengine)\n",
      "File \u001b[0;32m~/miniconda3/envs/NumericalMethods/lib/python3.12/site-packages/pandas/io/parsers/readers.py:1705\u001b[0m, in \u001b[0;36mTextFileReader._make_engine\u001b[0;34m(self, f, engine)\u001b[0m\n\u001b[1;32m   1703\u001b[0m     \u001b[38;5;28;01mif\u001b[39;00m \u001b[38;5;124m\"\u001b[39m\u001b[38;5;124mb\u001b[39m\u001b[38;5;124m\"\u001b[39m \u001b[38;5;129;01mnot\u001b[39;00m \u001b[38;5;129;01min\u001b[39;00m mode:\n\u001b[1;32m   1704\u001b[0m         mode \u001b[38;5;241m+\u001b[39m\u001b[38;5;241m=\u001b[39m \u001b[38;5;124m\"\u001b[39m\u001b[38;5;124mb\u001b[39m\u001b[38;5;124m\"\u001b[39m\n\u001b[0;32m-> 1705\u001b[0m \u001b[38;5;28mself\u001b[39m\u001b[38;5;241m.\u001b[39mhandles \u001b[38;5;241m=\u001b[39m get_handle(\n\u001b[1;32m   1706\u001b[0m     f,\n\u001b[1;32m   1707\u001b[0m     mode,\n\u001b[1;32m   1708\u001b[0m     encoding\u001b[38;5;241m=\u001b[39m\u001b[38;5;28mself\u001b[39m\u001b[38;5;241m.\u001b[39moptions\u001b[38;5;241m.\u001b[39mget(\u001b[38;5;124m\"\u001b[39m\u001b[38;5;124mencoding\u001b[39m\u001b[38;5;124m\"\u001b[39m, \u001b[38;5;28;01mNone\u001b[39;00m),\n\u001b[1;32m   1709\u001b[0m     compression\u001b[38;5;241m=\u001b[39m\u001b[38;5;28mself\u001b[39m\u001b[38;5;241m.\u001b[39moptions\u001b[38;5;241m.\u001b[39mget(\u001b[38;5;124m\"\u001b[39m\u001b[38;5;124mcompression\u001b[39m\u001b[38;5;124m\"\u001b[39m, \u001b[38;5;28;01mNone\u001b[39;00m),\n\u001b[1;32m   1710\u001b[0m     memory_map\u001b[38;5;241m=\u001b[39m\u001b[38;5;28mself\u001b[39m\u001b[38;5;241m.\u001b[39moptions\u001b[38;5;241m.\u001b[39mget(\u001b[38;5;124m\"\u001b[39m\u001b[38;5;124mmemory_map\u001b[39m\u001b[38;5;124m\"\u001b[39m, \u001b[38;5;28;01mFalse\u001b[39;00m),\n\u001b[1;32m   1711\u001b[0m     is_text\u001b[38;5;241m=\u001b[39mis_text,\n\u001b[1;32m   1712\u001b[0m     errors\u001b[38;5;241m=\u001b[39m\u001b[38;5;28mself\u001b[39m\u001b[38;5;241m.\u001b[39moptions\u001b[38;5;241m.\u001b[39mget(\u001b[38;5;124m\"\u001b[39m\u001b[38;5;124mencoding_errors\u001b[39m\u001b[38;5;124m\"\u001b[39m, \u001b[38;5;124m\"\u001b[39m\u001b[38;5;124mstrict\u001b[39m\u001b[38;5;124m\"\u001b[39m),\n\u001b[1;32m   1713\u001b[0m     storage_options\u001b[38;5;241m=\u001b[39m\u001b[38;5;28mself\u001b[39m\u001b[38;5;241m.\u001b[39moptions\u001b[38;5;241m.\u001b[39mget(\u001b[38;5;124m\"\u001b[39m\u001b[38;5;124mstorage_options\u001b[39m\u001b[38;5;124m\"\u001b[39m, \u001b[38;5;28;01mNone\u001b[39;00m),\n\u001b[1;32m   1714\u001b[0m )\n\u001b[1;32m   1715\u001b[0m \u001b[38;5;28;01massert\u001b[39;00m \u001b[38;5;28mself\u001b[39m\u001b[38;5;241m.\u001b[39mhandles \u001b[38;5;129;01mis\u001b[39;00m \u001b[38;5;129;01mnot\u001b[39;00m \u001b[38;5;28;01mNone\u001b[39;00m\n\u001b[1;32m   1716\u001b[0m f \u001b[38;5;241m=\u001b[39m \u001b[38;5;28mself\u001b[39m\u001b[38;5;241m.\u001b[39mhandles\u001b[38;5;241m.\u001b[39mhandle\n",
      "File \u001b[0;32m~/miniconda3/envs/NumericalMethods/lib/python3.12/site-packages/pandas/io/common.py:863\u001b[0m, in \u001b[0;36mget_handle\u001b[0;34m(path_or_buf, mode, encoding, compression, memory_map, is_text, errors, storage_options)\u001b[0m\n\u001b[1;32m    858\u001b[0m \u001b[38;5;28;01melif\u001b[39;00m \u001b[38;5;28misinstance\u001b[39m(handle, \u001b[38;5;28mstr\u001b[39m):\n\u001b[1;32m    859\u001b[0m     \u001b[38;5;66;03m# Check whether the filename is to be opened in binary mode.\u001b[39;00m\n\u001b[1;32m    860\u001b[0m     \u001b[38;5;66;03m# Binary mode does not support 'encoding' and 'newline'.\u001b[39;00m\n\u001b[1;32m    861\u001b[0m     \u001b[38;5;28;01mif\u001b[39;00m ioargs\u001b[38;5;241m.\u001b[39mencoding \u001b[38;5;129;01mand\u001b[39;00m \u001b[38;5;124m\"\u001b[39m\u001b[38;5;124mb\u001b[39m\u001b[38;5;124m\"\u001b[39m \u001b[38;5;129;01mnot\u001b[39;00m \u001b[38;5;129;01min\u001b[39;00m ioargs\u001b[38;5;241m.\u001b[39mmode:\n\u001b[1;32m    862\u001b[0m         \u001b[38;5;66;03m# Encoding\u001b[39;00m\n\u001b[0;32m--> 863\u001b[0m         handle \u001b[38;5;241m=\u001b[39m \u001b[38;5;28mopen\u001b[39m(\n\u001b[1;32m    864\u001b[0m             handle,\n\u001b[1;32m    865\u001b[0m             ioargs\u001b[38;5;241m.\u001b[39mmode,\n\u001b[1;32m    866\u001b[0m             encoding\u001b[38;5;241m=\u001b[39mioargs\u001b[38;5;241m.\u001b[39mencoding,\n\u001b[1;32m    867\u001b[0m             errors\u001b[38;5;241m=\u001b[39merrors,\n\u001b[1;32m    868\u001b[0m             newline\u001b[38;5;241m=\u001b[39m\u001b[38;5;124m\"\u001b[39m\u001b[38;5;124m\"\u001b[39m,\n\u001b[1;32m    869\u001b[0m         )\n\u001b[1;32m    870\u001b[0m     \u001b[38;5;28;01melse\u001b[39;00m:\n\u001b[1;32m    871\u001b[0m         \u001b[38;5;66;03m# Binary mode\u001b[39;00m\n\u001b[1;32m    872\u001b[0m         handle \u001b[38;5;241m=\u001b[39m \u001b[38;5;28mopen\u001b[39m(handle, ioargs\u001b[38;5;241m.\u001b[39mmode)\n",
      "\u001b[0;31mFileNotFoundError\u001b[0m: [Errno 2] No such file or directory: '/content/base_p4.csv'"
     ]
    }
   ],
   "source": [
    "import numpy as np\n",
    "import pandas as pd\n",
    "\n",
    "datos = pd.read_csv(\"/content/base_p4.csv\")\n",
    "datos = datos.drop(\"Unnamed: 0\", axis=1)\n",
    "\n",
    "class MCO:\n",
    "\n",
    "    def __init__(self, dataframe, predict_col, target_col):\n",
    "        '''\n",
    "        Create an instance of the MCO class\n",
    "        '''\n",
    "        self.dataframe = dataframe\n",
    "        self.predict_col = predict_col\n",
    "        self.target_col = target_col\n",
    "\n",
    "    def imprimir_columnas(self):\n",
    "        predictor_df = self.dataframe[self.predict_col]\n",
    "        target_df = self.dataframe[self.target_col]\n",
    "        print(\"Predictoras:\")\n",
    "        print(predictor_df)\n",
    "        print(\"\\nObjetivos:\")\n",
    "        print(target_df)\n",
    "\n",
    "    def betas(self):\n",
    "        self.dataframe.fillna(0, inplace=True)\n",
    "\n",
    "        X = self.dataframe[self.predict_col].copy()\n",
    "        y = self.dataframe[self.target_col]\n",
    "\n",
    "        X['intercept'] = 1\n",
    "\n",
    "        betas = np.linalg.inv(X.T.dot(X)).dot(X.T).dot(y) #cálculo de betas\n",
    "\n",
    "        betas_df = pd.DataFrame(betas, index=X.columns.tolist(), columns=[\"Betas\"])\n",
    "\n",
    "        return betas_df\n",
    "\n",
    "    def error_estandar(self):\n",
    "      self.dataframe.fillna(0, inplace=True)\n",
    "\n",
    "      X = self.dataframe[self.predict_col].copy()\n",
    "      y = self.dataframe[self.target_col]\n",
    "\n",
    "      X['intercept'] = 1\n",
    "\n",
    "      betas = self.betas()\n",
    "      y_hat = X.dot(betas.values)\n",
    "\n",
    "      residuos = y.values - y_hat.values\n",
    "\n",
    "      n = len(y)\n",
    "      p = len(self.predict_col) + 1  # +1 para el término de intercepto\n",
    "\n",
    "      var_residuos = np.sum(residuos ** 2) / (n - p - 1)\n",
    "      var_cov_matrix = var_residuos * np.linalg.inv(X.T.dot(X))\n",
    "\n",
    "      std_errors = np.sqrt(np.diag(var_cov_matrix))\n",
    "\n",
    "      std_errors_df = pd.DataFrame(std_errors, index=betas.index, columns=['Error Estándar'])\n",
    "\n",
    "      return std_errors_df\n",
    "\n",
    "    def R2(self):\n",
    "      self.dataframe.fillna(0, inplace=True)\n",
    "\n",
    "      X = self.dataframe[self.predict_col].copy()\n",
    "      y = self.dataframe[self.target_col]\n",
    "\n",
    "      X['intercept'] = 1\n",
    "\n",
    "      betas = self.betas()\n",
    "      y_hat = X.dot(betas.values)\n",
    "      y_mean = np.mean(y)\n",
    "\n",
    "      ss_res = np.sum((y.values - y_hat.values) ** 2)\n",
    "      ss_tot = np.sum((y.values - y_mean) ** 2)\n",
    "\n",
    "      r_squared = 1 - (ss_res / ss_tot)\n",
    "\n",
    "      r_squared_df = pd.DataFrame([r_squared], index=['R^2'], columns=['R2'])\n",
    "\n",
    "      return r_squared_df\n",
    "\n",
    "\n",
    "\n",
    "mco = MCO(datos, [\"motheduc\", \"fatheduc\", \"cigprice\", \"cigtax\"], [\"lbwght\"])\n",
    "\n",
    "betas0 = mco.betas()\n",
    "print(betas0)\n",
    "\n",
    "\n",
    "sem = mco.error_estandar()\n",
    "print(\"\\n\", sem)\n",
    "\n",
    "\n",
    "R2 = mco.R2()\n",
    "print(\"\\n\", R2)"
   ]
  },
  {
   "cell_type": "markdown",
   "metadata": {
    "id": "o1qIP1iOAVyF"
   },
   "source": [
    "Punto B:\n",
    "La comparacion se hace con la libreria de statsmodels"
   ]
  },
  {
   "cell_type": "code",
   "execution_count": null,
   "metadata": {
    "id": "asD-7l7AxMeh"
   },
   "outputs": [],
   "source": [
    "import pandas as pd\n",
    "import numpy as np\n",
    "import statsmodels.api as sm\n",
    "\n",
    "\n",
    "predictors = [\"motheduc\", \"fatheduc\", \"cigprice\", \"cigtax\"]\n",
    "objectives = [\"lbwght\"]\n",
    "\n",
    "X = datos[predictors]\n",
    "y = datos[objectives]\n",
    "\n",
    "X = sm.add_constant(X)\n",
    "\n",
    "model = sm.OLS(y, X)\n",
    "results = model.fit()\n",
    "\n",
    "betas = results.params\n",
    "print(\"Betas:\\n\")\n",
    "print(\"1. libreria:\\n\",betas, \"\\n\\n2. Propio:\", betas0)\n",
    "\n",
    "std = results.bse\n",
    "print(\"\\nError Estándar:\\n\")\n",
    "print(\"1. libreria:\\n\",std, \"\\n\\n2. Propio:\", sem)\n",
    "\n",
    "r2 = results.rsquared\n",
    "print(\"\\nR2:\\n\")\n",
    "print(\"1. libreria:\\n\",r2, \"\\n\\n2. Propio:\", R2)"
   ]
  },
  {
   "cell_type": "markdown",
   "metadata": {
    "id": "uFI1svp05TmI"
   },
   "source": [
    "## Punto 5\n",
    "\n",
    "Compute un equilibrio de Cournot para un duopolio. El problema es encontrar los dos resultados de producción para dos firmas, de tal manera que ninguna empresa encontraría ventajas en desviarse (unilateralmente) de esa producción. El problema que enfrenta cada empresa es que aumentar la producción puede aumentar los ingresos (la empresa vende más) pero también puede disminuir los precios (debido a una mayor disponibilidad).\n",
    "\n",
    "Por tanto, se debe buscar cantidades de producción que maximicen el beneficio neto. Las funciones de costos que tienen las dos firmas son:\n",
    "\n",
    "$$C_i(q_i) = \\frac{1}{2} \\cdot c_i \\cdot q_i^{2} \\quad i = 1, 2$$\n",
    "\n",
    "Suponga la función de demanda inversa (para todo el mercado):\n",
    "\n",
    "$$P(q) = q^{−1/γ}$$\n",
    "\n",
    "Esta función produce el precio de mercado, dada la oferta conjunta $q = q1 + q2$. El beneficio ($\\pi_i(q1, q2)$) de la firma i es ganancia menos costos. Para encontrar el equilibrio de Cournot, se debe hacer cumplir la condición de optimización de beneficio para la empresa 1, en función de su producción q1, y de beneficio para la empresa 2, como una función de q2. La condición de estacionariedad produce el siguiente conjunto de dos ecuaciones no lineales:\n",
    "\n",
    "$$f_i(q) = (q1 + q2)^{−1/γ} - (1/γ)(q1 + q2)^{\\frac{-1}{γ} -1} \\cdot q_i - c_i \\cdot q_i = 0 \\quad i = 1, 2.$$\n",
    "\n",
    "También se necesita la matriz jacobiana de $f_i(q)$. Asuma $γ = 0.6$, $c1 = 0.6$ y $c2 = 0.8$. Para resolver el problema por el método de Newton, se necesita una función que calcule tanto la función misma como el jacobiano.\n",
    "\n",
    "a) Construya la matriz Jacobiana.\n",
    "\n",
    "b) Construya la función que calcula la función y el Jacobiano\n",
    "\n",
    "c) Halle la solución del problema de optimización (raíz de la derivada de f) con ayuda de un método numérico visto en clase."
   ]
  },
  {
   "cell_type": "code",
   "execution_count": null,
   "metadata": {
    "id": "0DxpJ75M5dSi"
   },
   "outputs": [],
   "source": [
    "import numpy as np\n",
    "gamma = 0.6\n",
    "c1, c2 = 0.6, 0.8"
   ]
  },
  {
   "cell_type": "code",
   "execution_count": null,
   "metadata": {
    "id": "iz3rPbIIZXzK"
   },
   "outputs": [],
   "source": [
    "coste = lambda c,q: 0.5*c*q\n",
    "Q = lambda q1,q2: q1+q2\n",
    "demand = lambda Q: np.power(Q, -1/gamma)\n",
    "\n",
    "f = lambda Q,q,c: np.power(Q,-1/gamma) -(1/gamma)*np.power(Q, (-1/gamma)-1)*q-c*q"
   ]
  },
  {
   "cell_type": "code",
   "execution_count": null,
   "metadata": {
    "id": "btHBZ93cZ113"
   },
   "outputs": [],
   "source": [
    "import numpy as np\n",
    "from scipy.optimize import fsolve\n",
    "\n",
    "# Definición de constantes\n",
    "gamma = 0.6\n",
    "c1 = 0.6\n",
    "c2 = 0.8\n",
    "\n",
    "# Definición de la función f(q)\n",
    "def f(q):\n",
    "    q1, q2 = q\n",
    "    g = (q1 + q2)**(-1/gamma)\n",
    "    f1 = g - (1/gamma)*(q1 + q2)**(-1/gamma - 1)*q1 - c1*q1\n",
    "    f2 = g - (1/gamma)*(q1 + q2)**(-1/gamma - 1)*q2 - c2*q2\n",
    "    return [f1, f2]\n",
    "\n",
    "# Definición de la matriz Jacobiana J(q)\n",
    "def jacobian(q):\n",
    "    q1, q2 = q\n",
    "    g_prime = -(1/gamma)*(q1 + q2)**(-1/gamma - 1)\n",
    "    J = np.array([\n",
    "        [-2*g_prime - c1, -g_prime],\n",
    "        [-g_prime, -2*g_prime - c2]\n",
    "    ])\n",
    "    return J\n",
    "\n",
    "# Solución del problema de optimización utilizando el método de Newton\n",
    "initial_guess = np.array([1.0, 1.0])\n",
    "solution = fsolve(f, initial_guess, fprime=jacobian)\n",
    "\n",
    "print(\"La solución del problema de optimización es:\")\n",
    "print(\"q1 =\", solution[0])\n",
    "print(\"q2 =\", solution[1])\n"
   ]
  },
  {
   "cell_type": "code",
   "execution_count": null,
   "metadata": {
    "id": "EPd5lpbXesHC"
   },
   "outputs": [],
   "source": []
  }
 ],
 "metadata": {
  "colab": {
   "provenance": []
  },
  "kernelspec": {
   "display_name": "NumericalMethods",
   "language": "python",
   "name": "numericalmethods"
  },
  "language_info": {
   "codemirror_mode": {
    "name": "ipython",
    "version": 3
   },
   "file_extension": ".py",
   "mimetype": "text/x-python",
   "name": "python",
   "nbconvert_exporter": "python",
   "pygments_lexer": "ipython3",
   "version": "3.12.1"
  },
  "widgets": {
   "application/vnd.jupyter.widget-state+json": {
    "state": {},
    "version_major": 2,
    "version_minor": 0
   }
  }
 },
 "nbformat": 4,
 "nbformat_minor": 4
}
