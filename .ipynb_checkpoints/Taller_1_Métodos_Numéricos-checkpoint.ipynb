{
 "cells": [
  {
   "cell_type": "markdown",
   "metadata": {
    "id": "aW8csNvd1Aju"
   },
   "source": [
    "Integrantes:\n",
    "\n",
    "+ Juan Pablo Niño\n",
    "+ Nicole Santana\n",
    "+ Sebastian Gómez"
   ]
  },
  {
   "cell_type": "markdown",
   "metadata": {
    "id": "Y00fX7gnLf5w"
   },
   "source": [
    "## Pasos previos"
   ]
  },
  {
   "cell_type": "markdown",
   "metadata": {
    "id": "3g9XdT-h7a4H"
   },
   "source": [
    "\n",
    "\n",
    "Para tener más orden durante el desarrollo del cuaderno, consideremos las siguientes nomenclaturas para definir variables:\n",
    "\n",
    "En primera instancia tendremos en cuenta las variables de instancias para cada uno de los métodos de busqueda de raices de la siguiente forma.\n",
    "\n",
    "```python\n",
    "bisect    = Bisection()\n",
    "secant    = Secant()\n",
    "new_rap   = Newton_Raphson()\n",
    "fix_point = Fixed_Point()\n",
    "```\n",
    "\n",
    "Más sin embargo como el implementar esta notación para cada punto hace que se sobre escriba la variable (usar bisect en el punto 1 y luego la misma nomenclatura en el punto 2) tendremos en cuenta el número del punto al que hace referencia de la siguiente forma:\n",
    "\n",
    "```python\n",
    "# <Nomenclatura_anterior>_<Punto>\n",
    "# Las siguientes formas son EJEMPLOS\n",
    "bisect_1     = Bisection()\n",
    "secant_2     = Secant()\n",
    "new_rap_3    = Newton_Raphson()\n",
    "fix_point_4  = Fixed_Point()\n",
    "```\n",
    "\n",
    "Por si llega a usarse el método de la bisección (por ejemplo) en más de una ocasión para el mismo punto (1,2,3,4,5), usaremos la siguiente notación.\n",
    "\n",
    "```python\n",
    "# <Nomenclatura_anterior>_<Punto_numeral>\n",
    "# Las siguientes formas son EJEMPLOS\n",
    "bisect_1a  = Bisection()\n",
    "bisect_1b  = Bisection()\n",
    "bisect_1c  = Bisection()\n",
    ".\n",
    ".\n",
    ".\n",
    "```"
   ]
  },
  {
   "cell_type": "code",
   "execution_count": 1,
   "metadata": {
    "id": "BgXNxkzkIivN"
   },
   "outputs": [],
   "source": [
    "from errors import errors # Errores\n",
    "from methods.root_finding import * # Métodos de busqueda de raices\n",
    "import polars as pl\n",
    "\n",
    "\n",
    "# Librerías estándares\n",
    "import numpy as np # Importando numpy\n",
    "import matplotlib.pyplot as plt\n",
    "import time"
   ]
  },
  {
   "cell_type": "markdown",
   "metadata": {
    "id": "2UsjzCHs1CY4"
   },
   "source": [
    "## Punto 1\n",
    "\n",
    "Ecuación de valor. Cuando se quiere hallar un flujo de caja equivalente se utiliza una ecuación de valor y así se construye una condición (ecuación) que permite hallar el flujo equivalente. En algunos caso, hallar la solución a dicha condición no es una tarea sencilla. El objetivo de este primer punto es construir una clase en Python que permita solucionar numéricamente las ecuaciones de valor. Tenga en cuenta que en algunos casos la variable de interés no es necesariamente el flujo de caja. Otras variables de interés puede ser la periodicidad, o una tasa de interés.\n",
    "\n",
    "**Reto: Construir una clase que reciba un argumento, (tasa, flujo o n). Si recibe**\n",
    "\n",
    "* tasa, entonces halle la tasa que cumple la ecuación de valor.\n",
    "* flujo, entonces halle el flujo que cumple la ecuación de valor.\n",
    "* n, entonces halle el valor n que cumple la ecuación de valor.\n",
    "\n",
    "Con ayuda de la clase construida, responder a los siguientes problemas:\n",
    "\n",
    "a) ¿Cuánto se debe depositar hoy en una cuenta de ahorros que paga un interés del 2% mensual, para poder retirar 75.000 dentro de seis meses,  45.000 dentro de ocho meses, la mitad de lo depositado dentro de diez meses y aún se tenga un saldo de  300.000 dentro de 12 meses? (Rta: 579.074.35) <font color=#3e40c2>¡Resuelto!, falta corregir unas cosas del método, me encargo de este</font>\n",
    "\n",
    "\n",
    "b) Usted tiene tres documentos por cobrar así: uno por 200.000 dentro de 4 meses,otro por 300.000 dentro de 6 meses y el último por 600.000 dentro de 8 meses. Pacta con su deudor cambiar los tres pagos por uno de 900.000. Si la operación financiera se realiza con una tasa de interés del 4 % mensual ¿en qué fecha se debe pagar?\n",
    "\n",
    "c) Pablo se comprometió a cancelar una deuda con los siguientes pagos: un pago en el día de hoy por valor de 50.000, un pago dentro de 5 meses por valor de $ 200.000 y un pago dentro de 8 meses por valor de 350.000. Posteriormente convino con el acreedor en cancelarle la deuda con dos pagos iguales en los meses 6 y 12. Calcular el valor de estos pagos, si la operación se realiza con una tasa de interés del 3 % mensual. (Rta: 324.144.53)"
   ]
  },
  {
   "cell_type": "code",
   "execution_count": 10,
   "metadata": {
    "colab": {
     "base_uri": "https://localhost:8080/"
    },
    "id": "qZp2vAIL0-j0",
    "outputId": "cdc4f782-e998-4dfa-a6e1-f16ed5254876"
   },
   "outputs": [],
   "source": [
    "### Tenga en cuenta que solo hay una ecuación, de la cual se puede sacar el flujo (cuanto dinero se paga o se ahorra en un periodo de tiempo, ej: del mes 2 al mes 6)\n",
    "\n",
    "class Solve:\n",
    "\n",
    "  SPACE = 5\n",
    "  VP = lambda self, amount, month: amount/(1+self.rate)**month\n",
    "  VF = lambda self, amount, month: amount*(1+self.rate)**month\n",
    "\n",
    "\n",
    "  def __init__(self, cash_flow, rate):\n",
    "    '''\n",
    "\n",
    "    '''\n",
    "\n",
    "    self.cash_flow = cash_flow\n",
    "    self.rate = rate / 100\n",
    "\n",
    "  def solver1(self):\n",
    "    '''\n",
    "    '''\n",
    "\n",
    "    # Set the initial price\n",
    "    summation = 0\n",
    "    FP_instance = Fixed_Point()\n",
    "\n",
    "    # Itering all pay of cash flow\n",
    "    for amount, month in self.cash_flow:\n",
    "      try: # This is when there are not strings (unkown value)\n",
    "        summation += self.VP(amount, month)\n",
    "\n",
    "      except TypeError:\n",
    "        val = float(amount.split('/')[1])\n",
    "        month_ = month\n",
    "\n",
    "    \n",
    "    FP_instance.set_parameters(0.1,10e-2, lambda x: summation + x/(val*(1+self.rate)**month_))\n",
    "    FP_instance.fit()\n",
    "\n",
    "    return FP_instance\n",
    "\n",
    "\n",
    "\n",
    "cash1 = [(1000000,1), (70000,2) ,('x/3',6), (89000000,12)]\n",
    "s1 = Solve(cash1, 1.5)\n",
    "solucion = s1.solver1()"
   ]
  },
  {
   "cell_type": "code",
   "execution_count": 11,
   "metadata": {},
   "outputs": [
    {
     "data": {
      "text/html": [
       "<div><style>\n",
       ".dataframe > thead > tr,\n",
       ".dataframe > tbody > tr {\n",
       "  text-align: right;\n",
       "  white-space: pre-wrap;\n",
       "}\n",
       "</style>\n",
       "<small>shape: (19, 4)</small><table border=\"1\" class=\"dataframe\"><thead><tr><th>Iter</th><th>Root</th><th>Error ABS</th><th>Error Relative</th></tr><tr><td>f64</td><td>f64</td><td>f64</td><td>f64</td></tr></thead><tbody><tr><td>0.0</td><td>0.0</td><td>inf</td><td>inf</td></tr><tr><td>1.0</td><td>7.5492e7</td><td>7.5492e7</td><td>100.0</td></tr><tr><td>2.0</td><td>9.8505e7</td><td>2.3013e7</td><td>23.363</td></tr><tr><td>3.0</td><td>1.0552e8</td><td>7.0156e6</td><td>6.649</td></tr><tr><td>4.0</td><td>1.0766e8</td><td>2.1387e6</td><td>1.987</td></tr><tr><td>&hellip;</td><td>&hellip;</td><td>&hellip;</td><td>&hellip;</td></tr><tr><td>14.0</td><td>1.0860e8</td><td>14.824</td><td>0.0</td></tr><tr><td>15.0</td><td>1.0860e8</td><td>4.519</td><td>0.0</td></tr><tr><td>16.0</td><td>1.0860e8</td><td>1.378</td><td>0.0</td></tr><tr><td>17.0</td><td>1.0860e8</td><td>0.42</td><td>0.0</td></tr><tr><td>18.0</td><td>1.0860e8</td><td>0.128</td><td>0.0</td></tr></tbody></table></div>"
      ],
      "text/plain": [
       "shape: (19, 4)\n",
       "┌──────┬──────────┬───────────┬────────────────┐\n",
       "│ Iter ┆ Root     ┆ Error ABS ┆ Error Relative │\n",
       "│ ---  ┆ ---      ┆ ---       ┆ ---            │\n",
       "│ f64  ┆ f64      ┆ f64       ┆ f64            │\n",
       "╞══════╪══════════╪═══════════╪════════════════╡\n",
       "│ 0.0  ┆ 0.0      ┆ inf       ┆ inf            │\n",
       "│ 1.0  ┆ 7.5492e7 ┆ 7.5492e7  ┆ 100.0          │\n",
       "│ 2.0  ┆ 9.8505e7 ┆ 2.3013e7  ┆ 23.363         │\n",
       "│ 3.0  ┆ 1.0552e8 ┆ 7.0156e6  ┆ 6.649          │\n",
       "│ 4.0  ┆ 1.0766e8 ┆ 2.1387e6  ┆ 1.987          │\n",
       "│ …    ┆ …        ┆ …         ┆ …              │\n",
       "│ 14.0 ┆ 1.0860e8 ┆ 14.824    ┆ 0.0            │\n",
       "│ 15.0 ┆ 1.0860e8 ┆ 4.519     ┆ 0.0            │\n",
       "│ 16.0 ┆ 1.0860e8 ┆ 1.378     ┆ 0.0            │\n",
       "│ 17.0 ┆ 1.0860e8 ┆ 0.42      ┆ 0.0            │\n",
       "│ 18.0 ┆ 1.0860e8 ┆ 0.128     ┆ 0.0            │\n",
       "└──────┴──────────┴───────────┴────────────────┘"
      ]
     },
     "execution_count": 11,
     "metadata": {},
     "output_type": "execute_result"
    }
   ],
   "source": [
    "solucion.summary"
   ]
  },
  {
   "cell_type": "code",
   "execution_count": null,
   "metadata": {},
   "outputs": [],
   "source": []
  },
  {
   "cell_type": "code",
   "execution_count": null,
   "metadata": {},
   "outputs": [],
   "source": []
  },
  {
   "cell_type": "code",
   "execution_count": null,
   "metadata": {
    "colab": {
     "base_uri": "https://localhost:8080/",
     "height": 344
    },
    "id": "m7w4uizgdQ0b",
    "outputId": "c3ce715b-7330-43ee-bdae-03f093e4dfa3"
   },
   "outputs": [],
   "source": [
    "func = lambda x: (1.04**x)*846468-900000\n",
    "func_de = lambda x: x*(1.04**x-1)*846468\n",
    "sec = Newton_Raphson()\n",
    "sec.set_parameters(1, 10e-40, func, func_de)\n",
    "sec.fit()"
   ]
  },
  {
   "cell_type": "markdown",
   "metadata": {
    "id": "w2peJcjt1BXI"
   },
   "source": [
    "## Punto 2\n",
    "\n",
    "Construir una gráfica de tiempo en función de la precisión que compare los métodos para resolver:\n",
    "\n",
    "a) La solución numérica a la ecuación $e^x = 2(1 - x)$. Ayuda: está en el intervalo $[0, 3]$ <font color=#3e40c2>¡Resuelto!</font>\n",
    "\n",
    "b) Una aproximación numérica a la raíz de $f(x) = x^3 + x - 7$. Luego con 1.7 (raíz de f ) halle el error relativo de su aproximación. <font color=#3e40c2>¡Resuelto!</font>\n",
    "\n",
    "c) Halle la raíz positiva de la ecuación $x = 5(1 - e^{-x})$ con cinco decimales de aproximación. <font color=#3e40c2>¡Resuelto!</font>\n",
    "\n",
    "d ) Halle la raíz de la función $f(x) = x - 3e^{−x}$ con 6 decimales de aproximación. <font color=#dc8333>!Corregir!</font>\n"
   ]
  },
  {
   "cell_type": "markdown",
   "metadata": {
    "id": "W7NeuyM8Bz8k"
   },
   "source": [
    "<h4>Pasos</h4>\n",
    "\n",
    "Para este punto haremos uso de los siguientes dos pasos:\n",
    "\n",
    "1. Encontrar cada una de las soluciones.\n",
    "2. Construir la gráfica."
   ]
  },
  {
   "cell_type": "markdown",
   "metadata": {
    "id": "ri81wFNhCS5O"
   },
   "source": [
    "<h5>Paso 1: cálculo de raices</h5>\n",
    "\n",
    "**Nota**: Cuando estemos seguros que los resultados obtenidos estén bien, copiar el siguiente código para obtener los tiempos de ejecución y luego borrar esta nota... si algo despues lo dejamos más bonito.\n",
    "\n",
    "```python\n",
    "start_time_2a = time.time() # Tiempo inicial\n",
    "\n",
    "<códigos de cada punto>\n",
    "\n",
    "end_time_2a = time.time() # Tiempo final\n",
    "time_spent_2a = start_time_2a - end_time_2a # Tiempo gastado\n",
    "```"
   ]
  },
  {
   "cell_type": "code",
   "execution_count": null,
   "metadata": {
    "colab": {
     "base_uri": "https://localhost:8080/"
    },
    "id": "tqe1FTutZkrf",
    "outputId": "db938098-6acf-43cf-898f-2e19705ac60b"
   },
   "outputs": [],
   "source": [
    "# ¡¡¡IMPORTANTE!!!, este está bien, no borrar :)\n",
    "# Celda de código para la ejecución del punto 2a\n",
    "\n",
    "start_time_2a = time.time() # Tiempo inicial (antes de la ejecución)\n",
    "\n",
    "# Cálculo de la raíz mediante Punto fijo\n",
    "func_2a = lambda x: (np.exp(x)-2)/-2\n",
    "\n",
    "fix_point_2a = Fixed_Point()\n",
    "fix_point_2a.set_parameters(-1, 10e-6, func_2a)\n",
    "fix_point_2a.fit()\n",
    "\n",
    "end_time_2a = time.time() # Tiempo final (después de la ejecución)\n",
    "time_spent_2a = start_time_2a - end_time_2a # Tiempo gastado\n",
    "\n",
    "fix_point_2a.root # Observar la raíz de la ecuación\n"
   ]
  },
  {
   "cell_type": "code",
   "execution_count": null,
   "metadata": {
    "colab": {
     "base_uri": "https://localhost:8080/"
    },
    "id": "3Kd4sGun6yJk",
    "outputId": "2c7d1ddc-f117-414b-9aa9-4652a556b939"
   },
   "outputs": [],
   "source": [
    "# Celda de código para la ejecución del punto 2b\n",
    "\n",
    "func_b = lambda x: x**3 + x -7\n",
    "derivated_b = lambda x: 3*x**2 + 1\n",
    "\n",
    "# Nomenclatura de la variable\n",
    "# <Tipo de método>__<punto>\n",
    "new_rap_2b = Newton_Raphson()\n",
    "new_rap_2b.set_parameters(10, 10e-6, func_b, derivated_b)\n",
    "new_rap_2b.fit()\n",
    "\n",
    "print(f'La raíz computada fue: {new_rap_2b.root}')\n",
    "print(f'Con un error absoluto de {Errors.relative(new_rap_2b.root, 1.7)}%')\n",
    "\n"
   ]
  },
  {
   "cell_type": "code",
   "execution_count": null,
   "metadata": {
    "colab": {
     "base_uri": "https://localhost:8080/"
    },
    "id": "2j_WqKyAwhFh",
    "outputId": "12ca1c4e-8d25-42c8-f3b7-ef2da9436a42"
   },
   "outputs": [],
   "source": [
    "# Celda de código para la ejecución del punto 2c\n",
    "\n",
    "# método de Newtown\n",
    "func_c = lambda x: 5*(1-np.exp(-x))\n",
    "derivated_c = lambda x: -5*np.exp(-x)\n",
    "\n",
    "new_rap_2d = Newton_Raphson()\n",
    "new_rap_2d.set_parameters(10, 10e-5, func_d, derivated_c)\n",
    "new_rap_2d.fit()\n",
    "print(new_rap_2d.root)\n",
    "\n",
    "\n",
    "# método de punto fijo\n",
    "\n",
    "fix_point_2d = Fixed_Point()\n",
    "fix_point_2d.set_parameters(10, 10e-5, func_c)\n",
    "fix_point_2d.fit()\n",
    "print(fix_point_2d.root)"
   ]
  },
  {
   "cell_type": "code",
   "execution_count": null,
   "metadata": {
    "colab": {
     "base_uri": "https://localhost:8080/"
    },
    "id": "4j4A-G_PyOqD",
    "outputId": "3ff1ce67-b0f0-48fc-aa09-e5bf0229e62c"
   },
   "outputs": [],
   "source": [
    "# Celda de código para la ejecución del punto 2d\n",
    "# f(x) = x - 3e^{−x}\n",
    "\n",
    "func_2d = lambda x: x - 3*np.exp(-x)\n",
    "derivated_2d = lambda x: 1 + 3*np.exp(-x)\n",
    "\n",
    "new_rap_2d = Newton_Raphson()\n",
    "new_rap_2d.set_parameters(20, 10e-6, func_2d, derivated_2d)\n",
    "new_rap_2d.fit()\n",
    "new_rap_2d.root"
   ]
  },
  {
   "cell_type": "markdown",
   "metadata": {
    "id": "c_qVNikWD7SE"
   },
   "source": [
    "<h5>Paso 2: visualización de las gráficas</h5>"
   ]
  },
  {
   "cell_type": "code",
   "execution_count": null,
   "metadata": {
    "id": "1Zl-mvIpEEL7"
   },
   "outputs": [],
   "source": [
    "# Espacio para las gráficas\n",
    "\n"
   ]
  },
  {
   "cell_type": "markdown",
   "metadata": {
    "id": "CGG49wSS1B1E"
   },
   "source": [
    "## Punto 3\n",
    "\n",
    "Hallar los puntos críticos de forma numérica para las siguientes funciones\n",
    "\n",
    "a) $f(x) = e^{−x} - x$\n",
    "\n",
    "b) $f(x) = ln(x) - 5x^{2}$\n"
   ]
  },
  {
   "cell_type": "markdown",
   "metadata": {
    "id": "D_lEKiuHy-cE"
   },
   "source": [
    "<h4>Solución</h4>\n",
    "\n",
    "a) $f(x) = e^{−x} - x$\n",
    "\n",
    "\\begin{array}{ll}\n",
    "\\frac{df(x)}{dx} = -1e^{-x} - 1 & \\text{Derivando } f(x)\\\\\n",
    "-1e^{-x} - 1 = 0 & \\text{Igualando a } 0\\\\\n",
    "-1e^{-x} = 1 & \\text{Sumando 1 a ambos lados}\\\\\n",
    "e^{-x} = -1 & \\text{Dividiendo entre 1 a ambos lados}\n",
    "\\end{array}\n",
    "\n",
    "$\\quad$\n",
    "\n",
    "b) $f(x) = ln(x) - 5x^{2}$\n",
    "\n",
    "\\begin{array}{ll}\n",
    "\\frac{df(x)}{dx} = \\frac{1}{x} - 10x & \\text{Derivando } f(x)\\\\\n",
    "\\frac{1}{x} - 10x = 0 & \\text{Igualando la derivada a 0}\n",
    "\\end{array}"
   ]
  },
  {
   "cell_type": "markdown",
   "metadata": {
    "id": "HifVq_er1G6f"
   },
   "source": [
    "## Punto 4\n",
    "\n",
    "Construir un programa que calcule los betas de MCO, el error estándar y el $R^2$.\n",
    "\n",
    "a) Utilizar el programa para estimar los parámetros de los siguientes modelos con una base de datos dada.\n",
    "\n",
    "b) Comparar los resultados con los obtenidos por un módulo en Python\n"
   ]
  },
  {
   "cell_type": "code",
   "execution_count": null,
   "metadata": {
    "id": "z7JW4geZ1IV4"
   },
   "outputs": [],
   "source": [
    "class MCO:\n",
    "\n",
    "  def __init__(self, dataframe, predict_col, target_col):\n",
    "    '''\n",
    "    Create an instance of the MCO class\n",
    "    '''\n",
    "\n",
    "    self.dataframe = dataframe\n",
    "    self.predict_col = predict_col\n",
    "    self.target_col = target_col\n",
    "\n",
    "\n",
    "\n"
   ]
  },
  {
   "cell_type": "markdown",
   "metadata": {
    "id": "uFI1svp05TmI"
   },
   "source": [
    "## Punto 5\n",
    "\n",
    "Compute un equilibrio de Cournot para un duopolio. El problema es encontrar los dos resultados de producción para dos firmas, de tal manera que ninguna empresa encontraría ventajas en desviarse (unilateralmente) de esa producción. El problema que enfrenta cada empresa es que aumentar la producción puede aumentar los ingresos (la empresa vende más) pero también puede disminuir los precios (debido a una mayor disponibilidad).\n",
    "\n",
    "Por tanto, se debe buscar cantidades de producción que maximicen el beneficio neto. Las funciones de costos que tienen las dos firmas son:\n",
    "\n",
    "$$C_i(q_i) = \\frac{1}{2} \\cdot c_i \\cdot q_i \\quad i = 1, 2$$\n",
    "\n",
    "Suponga la función de demanda inversa (para todo el mercado):\n",
    "\n",
    "$$P(q) = q^{−1/γ}$$\n",
    "\n",
    "Esta función produce el precio de mercado, dada la oferta conjunta $q = q1 + q2$. El beneficio ($\\pi_i(q1, q2)$) de la firma i es ganancia menos costos. Para encontrar el equilibrio de Cournot, se debe hacer cumplir la condición de optimización de beneficio para la empresa 1, en función de su producción q1, y de beneficio para la empresa 2, como una función de q2. La condición de estacionariedad produce el siguiente conjunto de dos ecuaciones no lineales:\n",
    "\n",
    "$$f_i(q) = (q1 + q2)^{−1/γ} - (1/γ)(q1 + q2)^{\\frac{-1}{γ} -1} \\cdot q_i - c_i \\cdot q_i = 0 \\quad i = 1, 2.$$\n",
    "\n",
    "También se necesita la matriz jacobiana de $f_i(q)$. Asuma $γ = 0.6$, $c1 = 0.6$ y $c2 = 0.8$. Para resolver el problema por el método de Newton, se necesita una función que calcule tanto la función misma como el jacobiano.\n",
    "\n",
    "a) Construya la matriz Jacobiana.\n",
    "\n",
    "b) Construya la función que calcula la función y el Jacobiano\n",
    "\n",
    "c) Halle la solución del problema de optimización (raíz de la derivada de f) con ayuda de un método numérico visto en clase."
   ]
  },
  {
   "cell_type": "markdown",
   "metadata": {
    "id": "0DxpJ75M5dSi"
   },
   "source": [
    "# Testing"
   ]
  },
  {
   "cell_type": "code",
   "execution_count": null,
   "metadata": {},
   "outputs": [],
   "source": [
    "d1 = pl.DataFrame(schema = {'Iter': pl.Int64, 'root': pl.Float64, 'abs error': pl.Float64, 'relative error': pl.Float64})\n",
    "d1"
   ]
  },
  {
   "cell_type": "code",
   "execution_count": null,
   "metadata": {},
   "outputs": [],
   "source": [
    "data = {'nombre': ['Juan', 'Camilo'], 'edad':[1,2]}\n",
    "pl.DataFrame(data)"
   ]
  },
  {
   "cell_type": "code",
   "execution_count": null,
   "metadata": {},
   "outputs": [],
   "source": [
    "np.inf"
   ]
  }
 ],
 "metadata": {
  "colab": {
   "collapsed_sections": [
    "w2peJcjt1BXI",
    "CGG49wSS1B1E",
    "HifVq_er1G6f",
    "uFI1svp05TmI"
   ],
   "provenance": []
  },
  "kernelspec": {
   "display_name": "NumericalMethods",
   "language": "python",
   "name": "numericalmethods"
  },
  "language_info": {
   "codemirror_mode": {
    "name": "ipython",
    "version": 3
   },
   "file_extension": ".py",
   "mimetype": "text/x-python",
   "name": "python",
   "nbconvert_exporter": "python",
   "pygments_lexer": "ipython3",
   "version": "3.12.1"
  }
 },
 "nbformat": 4,
 "nbformat_minor": 4
}
